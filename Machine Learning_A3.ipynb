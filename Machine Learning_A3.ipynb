{
 "cells": [
  {
   "cell_type": "markdown",
   "metadata": {
    "colab_type": "text",
    "id": "74dkCyjsNE7_"
   },
   "source": [
    "#**SIT 720 - Machine Learning**\n",
    "\n",
    "Lecturer: Chandan Karmakar | karmakar@deakin.edu.au\n",
    "\n",
    "School of Information Technology,\n",
    "<br/>Deakin University, VIC 3125, Australia."
   ]
  },
  {
   "cell_type": "markdown",
   "metadata": {
    "colab_type": "text",
    "id": "gQhIyRIHNIhu"
   },
   "source": [
    "#**Assessment Task 3 (40 marks)**\n",
    "\n",
    "##Submission Instruction\n",
    "1.  Student should insert Python code or text responses into the cell followed by the question.\n",
    "\n",
    "2.  For answers regarding discussion or explanation, **maximum five sentences are suggested**.\n",
    "\n",
    "3.  Rename this notebook file appending your student ID. For example, for student ID 1234, the submitted file name should be A3_1234.ipynb.\n",
    "\n",
    "4.  Insert your student ID and name in the following cell."
   ]
  },
  {
   "cell_type": "code",
   "execution_count": 1,
   "metadata": {
    "colab": {},
    "colab_type": "code",
    "id": "gdZPzuPLNM5f"
   },
   "outputs": [],
   "source": [
    "# Student ID: \n",
    "\n",
    "# Student name:"
   ]
  },
  {
   "cell_type": "code",
   "execution_count": 2,
   "metadata": {},
   "outputs": [],
   "source": [
    "import numpy as np\n",
    "import pandas as pd\n",
    "import matplotlib.pyplot as plt\n",
    "from sklearn.model_selection import train_test_split\n",
    "import seaborn as sns"
   ]
  },
  {
   "cell_type": "code",
   "execution_count": 3,
   "metadata": {},
   "outputs": [],
   "source": [
    "class color:\n",
    "   PURPLE = '\\033[95m'\n",
    "   CYAN = '\\033[96m'\n",
    "   DARKCYAN = '\\033[36m'\n",
    "   BLUE = '\\033[94m'\n",
    "   GREEN = '\\033[92m'\n",
    "   YELLOW = '\\033[93m'\n",
    "   RED = '\\033[91m'\n",
    "   BOLD = '\\033[1m'\n",
    "   UNDERLINE = '\\033[4m'\n",
    "   END = '\\033[0m'"
   ]
  },
  {
   "cell_type": "markdown",
   "metadata": {
    "colab_type": "text",
    "id": "8Bb-CS27NWdS"
   },
   "source": [
    "## Background\n",
    "\n",
    "Environment and its changes are the most complex system. It is unarguably accepted that the temperature changes are greately affected by various environmental factors. Many of them are positively related to the  change, whereas, some have negative correlation. In this assesment task, you will analyse relationship among various environmental factors, which affect temperature.\n",
    "\n",
    "##The dataset\n",
    "\n",
    "**Dataset file name:** weather_dataset.csv\n",
    "\n",
    "**Dataset description:** The dataset contains total 10 features. Each row contains an hourly record of weather status and the data was recorded for the time period between 2006 and 2016.\n",
    "\n",
    "**Features and labels:** \n",
    "\n",
    "1.   recording_date_time (date_time): Date and time the data was recorded\n",
    "2.   precip_type (string): Precipitation status, blank (no value) indicates unknown status\n",
    "3.   temperature (float): Temperature in degree Celsius\n",
    "4.   apparent_temperature (float): Feel like temperature in degree Celsius\n",
    "5.   humidity (float): Percentage amount of water vapour in the air \n",
    "6.   wind_speed (float): Speed of the wind in km per hour\n",
    "7.   wind_bearing (int): The direction of wind in degree in geo-polar co-ordinate. Value 0 means perfect east, 90 means perfect north, 180 and 270 means west and south respectively.\n",
    "8.   visibility (float): Distance in km that is visible in naked eyes.\n",
    "9.   cloud_cover (float): The fraction of the sky obscured by clouds. The value is 1 if the observed area is fully cloudy, 0 if no clouds and other fractional value indicates the portion of the area covered by clouds.\n",
    "10.   pressure (float): Air pressure or atmospheric in milibars\n"
   ]
  },
  {
   "cell_type": "code",
   "execution_count": 4,
   "metadata": {},
   "outputs": [
    {
     "name": "stdout",
     "output_type": "stream",
     "text": [
      "Data has 96453 rows with  10 columns\n"
     ]
    },
    {
     "data": {
      "text/html": [
       "<div>\n",
       "<style scoped>\n",
       "    .dataframe tbody tr th:only-of-type {\n",
       "        vertical-align: middle;\n",
       "    }\n",
       "\n",
       "    .dataframe tbody tr th {\n",
       "        vertical-align: top;\n",
       "    }\n",
       "\n",
       "    .dataframe thead th {\n",
       "        text-align: right;\n",
       "    }\n",
       "</style>\n",
       "<table border=\"1\" class=\"dataframe\">\n",
       "  <thead>\n",
       "    <tr style=\"text-align: right;\">\n",
       "      <th></th>\n",
       "      <th>recording_date_time</th>\n",
       "      <th>precip_type</th>\n",
       "      <th>temperature</th>\n",
       "      <th>apparent_temperature</th>\n",
       "      <th>humidity</th>\n",
       "      <th>wind_speed</th>\n",
       "      <th>wind_bearing</th>\n",
       "      <th>visibility</th>\n",
       "      <th>cloud_cover</th>\n",
       "      <th>pressure</th>\n",
       "    </tr>\n",
       "  </thead>\n",
       "  <tbody>\n",
       "    <tr>\n",
       "      <th>0</th>\n",
       "      <td>2006-04-01 00:00:00.000 +0200</td>\n",
       "      <td>rain</td>\n",
       "      <td>9.47</td>\n",
       "      <td>7.39</td>\n",
       "      <td>0.89</td>\n",
       "      <td>14.12</td>\n",
       "      <td>251</td>\n",
       "      <td>15.83</td>\n",
       "      <td>0</td>\n",
       "      <td>1015.13</td>\n",
       "    </tr>\n",
       "    <tr>\n",
       "      <th>1</th>\n",
       "      <td>2006-04-01 01:00:00.000 +0200</td>\n",
       "      <td>rain</td>\n",
       "      <td>9.36</td>\n",
       "      <td>7.23</td>\n",
       "      <td>0.86</td>\n",
       "      <td>14.26</td>\n",
       "      <td>259</td>\n",
       "      <td>15.83</td>\n",
       "      <td>0</td>\n",
       "      <td>1015.63</td>\n",
       "    </tr>\n",
       "    <tr>\n",
       "      <th>2</th>\n",
       "      <td>2006-04-01 02:00:00.000 +0200</td>\n",
       "      <td>rain</td>\n",
       "      <td>9.38</td>\n",
       "      <td>9.38</td>\n",
       "      <td>0.89</td>\n",
       "      <td>3.93</td>\n",
       "      <td>204</td>\n",
       "      <td>14.96</td>\n",
       "      <td>0</td>\n",
       "      <td>1015.94</td>\n",
       "    </tr>\n",
       "    <tr>\n",
       "      <th>3</th>\n",
       "      <td>2006-04-01 03:00:00.000 +0200</td>\n",
       "      <td>rain</td>\n",
       "      <td>8.29</td>\n",
       "      <td>5.94</td>\n",
       "      <td>0.83</td>\n",
       "      <td>14.10</td>\n",
       "      <td>269</td>\n",
       "      <td>15.83</td>\n",
       "      <td>0</td>\n",
       "      <td>1016.41</td>\n",
       "    </tr>\n",
       "    <tr>\n",
       "      <th>4</th>\n",
       "      <td>2006-04-01 04:00:00.000 +0200</td>\n",
       "      <td>rain</td>\n",
       "      <td>8.76</td>\n",
       "      <td>6.98</td>\n",
       "      <td>0.83</td>\n",
       "      <td>11.04</td>\n",
       "      <td>259</td>\n",
       "      <td>15.83</td>\n",
       "      <td>0</td>\n",
       "      <td>1016.51</td>\n",
       "    </tr>\n",
       "  </tbody>\n",
       "</table>\n",
       "</div>"
      ],
      "text/plain": [
       "             recording_date_time precip_type  temperature  \\\n",
       "0  2006-04-01 00:00:00.000 +0200        rain         9.47   \n",
       "1  2006-04-01 01:00:00.000 +0200        rain         9.36   \n",
       "2  2006-04-01 02:00:00.000 +0200        rain         9.38   \n",
       "3  2006-04-01 03:00:00.000 +0200        rain         8.29   \n",
       "4  2006-04-01 04:00:00.000 +0200        rain         8.76   \n",
       "\n",
       "   apparent_temperature  humidity  wind_speed  wind_bearing  visibility  \\\n",
       "0                  7.39      0.89       14.12           251       15.83   \n",
       "1                  7.23      0.86       14.26           259       15.83   \n",
       "2                  9.38      0.89        3.93           204       14.96   \n",
       "3                  5.94      0.83       14.10           269       15.83   \n",
       "4                  6.98      0.83       11.04           259       15.83   \n",
       "\n",
       "   cloud_cover  pressure  \n",
       "0            0   1015.13  \n",
       "1            0   1015.63  \n",
       "2            0   1015.94  \n",
       "3            0   1016.41  \n",
       "4            0   1016.51  "
      ]
     },
     "execution_count": 4,
     "metadata": {},
     "output_type": "execute_result"
    }
   ],
   "source": [
    "data = pd.read_csv('weather_dataset.csv')\n",
    "data.head(10)\n",
    "rows, cols = data.shape\n",
    "print(\"Data has {} rows with  {} columns\".format(rows, cols))\n",
    "data.head()"
   ]
  },
  {
   "cell_type": "markdown",
   "metadata": {
    "colab_type": "text",
    "id": "TkUeSXbIODoE"
   },
   "source": [
    "##**Part 1: Linear Regression:**  **(25 marks)**\n",
    "\n",
    "\n",
    "1.   Load the dataset and split the data for training and testing - consider the data of last 2 years (2015 and 2016) for testing. Now exclude recording_date_time column from both training and test sets. Display the shape of training and test sets. **(3 marks)**"
   ]
  },
  {
   "cell_type": "code",
   "execution_count": 5,
   "metadata": {
    "colab": {},
    "colab_type": "code",
    "id": "KugpF4o5OKHD"
   },
   "outputs": [
    {
     "name": "stdout",
     "output_type": "stream",
     "text": [
      "<class 'str'>\n",
      "      recording_date_time    precip_type      temperature  \\\n",
      "0           <class 'str'>  <class 'str'>  <class 'float'>   \n",
      "1           <class 'str'>  <class 'str'>  <class 'float'>   \n",
      "2           <class 'str'>  <class 'str'>  <class 'float'>   \n",
      "3           <class 'str'>  <class 'str'>  <class 'float'>   \n",
      "4           <class 'str'>  <class 'str'>  <class 'float'>   \n",
      "...                   ...            ...              ...   \n",
      "96448       <class 'str'>  <class 'str'>  <class 'float'>   \n",
      "96449       <class 'str'>  <class 'str'>  <class 'float'>   \n",
      "96450       <class 'str'>  <class 'str'>  <class 'float'>   \n",
      "96451       <class 'str'>  <class 'str'>  <class 'float'>   \n",
      "96452       <class 'str'>  <class 'str'>  <class 'float'>   \n",
      "\n",
      "      apparent_temperature         humidity       wind_speed   wind_bearing  \\\n",
      "0          <class 'float'>  <class 'float'>  <class 'float'>  <class 'int'>   \n",
      "1          <class 'float'>  <class 'float'>  <class 'float'>  <class 'int'>   \n",
      "2          <class 'float'>  <class 'float'>  <class 'float'>  <class 'int'>   \n",
      "3          <class 'float'>  <class 'float'>  <class 'float'>  <class 'int'>   \n",
      "4          <class 'float'>  <class 'float'>  <class 'float'>  <class 'int'>   \n",
      "...                    ...              ...              ...            ...   \n",
      "96448      <class 'float'>  <class 'float'>  <class 'float'>  <class 'int'>   \n",
      "96449      <class 'float'>  <class 'float'>  <class 'float'>  <class 'int'>   \n",
      "96450      <class 'float'>  <class 'float'>  <class 'float'>  <class 'int'>   \n",
      "96451      <class 'float'>  <class 'float'>  <class 'float'>  <class 'int'>   \n",
      "96452      <class 'float'>  <class 'float'>  <class 'float'>  <class 'int'>   \n",
      "\n",
      "            visibility    cloud_cover         pressure  \n",
      "0      <class 'float'>  <class 'int'>  <class 'float'>  \n",
      "1      <class 'float'>  <class 'int'>  <class 'float'>  \n",
      "2      <class 'float'>  <class 'int'>  <class 'float'>  \n",
      "3      <class 'float'>  <class 'int'>  <class 'float'>  \n",
      "4      <class 'float'>  <class 'int'>  <class 'float'>  \n",
      "...                ...            ...              ...  \n",
      "96448  <class 'float'>  <class 'int'>  <class 'float'>  \n",
      "96449  <class 'float'>  <class 'int'>  <class 'float'>  \n",
      "96450  <class 'float'>  <class 'int'>  <class 'float'>  \n",
      "96451  <class 'float'>  <class 'int'>  <class 'float'>  \n",
      "96452  <class 'float'>  <class 'int'>  <class 'float'>  \n",
      "\n",
      "[96453 rows x 10 columns]\n",
      "<class 'str'>\n",
      "\u001b[93m\u001b[4m\u001b[1mTRAINTING DATA\u001b[0m (78909, 8)\n",
      "   precip_type  temperature  apparent_temperature  humidity  wind_speed  \\\n",
      "0            0         9.47                  7.39      0.89       14.12   \n",
      "1            0         9.36                  7.23      0.86       14.26   \n",
      "2            0         9.38                  9.38      0.89        3.93   \n",
      "3            0         8.29                  5.94      0.83       14.10   \n",
      "4            0         8.76                  6.98      0.83       11.04   \n",
      "\n",
      "   wind_bearing  visibility  pressure  \n",
      "0           251       15.83   1015.13  \n",
      "1           259       15.83   1015.63  \n",
      "2           204       14.96   1015.94  \n",
      "3           269       15.83   1016.41  \n",
      "4           259       15.83   1016.51  \n",
      "\u001b[93m\u001b[4m\u001b[1mTESTING DATA\u001b[0m (17544, 8)\n",
      "       precip_type  temperature  apparent_temperature  humidity  wind_speed  \\\n",
      "78909            0        11.02                 11.02      0.71       24.92   \n",
      "78910            0        10.99                 10.99      0.62       31.15   \n",
      "78911            0         9.87                  7.02      0.64       22.30   \n",
      "78912            0         8.84                  6.56      0.67       14.51   \n",
      "78913            0         8.31                  5.61      0.67       16.89   \n",
      "\n",
      "       wind_bearing  visibility  pressure  \n",
      "78909           309       10.26   1004.56  \n",
      "78910           300       10.26   1005.28  \n",
      "78911           309       14.39   1006.28  \n",
      "78912           310       15.18   1006.34  \n",
      "78913           290       15.18   1007.65  \n"
     ]
    }
   ],
   "source": [
    "#Check data type\n",
    "print(type('recording_date_time'))\n",
    "print(data.applymap(type))\n",
    "\n",
    "#Change to string type\n",
    "data['recording_date_time']= data['recording_date_time'].astype(str)\n",
    "data['Year'] = data['recording_date_time'].str[:+4]\n",
    "\n",
    "#remove cloud_cover\n",
    "df = data.drop(['cloud_cover'],axis =1)\n",
    "df.head(10)\n",
    "\n",
    "#encode categorical attribute:precip_type\n",
    "print(type('precip_type'))\n",
    "df['precip_type']= data['precip_type'].astype('category')\n",
    "df['precip_type'] = df['precip_type'].cat.codes\n",
    "\n",
    "df['Year'] = df['Year'].astype(int)\n",
    "training = df.loc[df['Year'] < 2015]\n",
    "testing = df.loc[df['Year'] >= 2015]\n",
    "train = training.drop(['Year','recording_date_time'], axis = 1)\n",
    "test = testing.drop(['Year','recording_date_time'], axis =1 )\n",
    "print(color.YELLOW + color.UNDERLINE + color.BOLD + 'TRAINTING DATA'+ color.END, train.shape)\n",
    "print(train.head(5))\n",
    "print(color.YELLOW + color.UNDERLINE + color.BOLD + 'TESTING DATA'+ color.END, test.shape)\n",
    "print(test.head(5))"
   ]
  },
  {
   "cell_type": "markdown",
   "metadata": {
    "colab_type": "text",
    "id": "tir1JyxlOVQf"
   },
   "source": [
    "2.  Consider the 'temperature' as the target. List the insignificant features for predicting temperature, if any. Explain your findings. **(5 marks)**\n",
    "<br/><font color='green'>**[Hint for students: See the \"7.3 Relevance and Covariance among features or variables\" for more information.]** <font/>"
   ]
  },
  {
   "cell_type": "code",
   "execution_count": 6,
   "metadata": {},
   "outputs": [
    {
     "data": {
      "text/html": [
       "<div>\n",
       "<style scoped>\n",
       "    .dataframe tbody tr th:only-of-type {\n",
       "        vertical-align: middle;\n",
       "    }\n",
       "\n",
       "    .dataframe tbody tr th {\n",
       "        vertical-align: top;\n",
       "    }\n",
       "\n",
       "    .dataframe thead th {\n",
       "        text-align: right;\n",
       "    }\n",
       "</style>\n",
       "<table border=\"1\" class=\"dataframe\">\n",
       "  <thead>\n",
       "    <tr style=\"text-align: right;\">\n",
       "      <th></th>\n",
       "      <th>precip_type</th>\n",
       "      <th>temperature</th>\n",
       "      <th>apparent_temperature</th>\n",
       "      <th>humidity</th>\n",
       "      <th>wind_speed</th>\n",
       "      <th>wind_bearing</th>\n",
       "      <th>visibility</th>\n",
       "      <th>pressure</th>\n",
       "    </tr>\n",
       "  </thead>\n",
       "  <tbody>\n",
       "    <tr>\n",
       "      <th>0</th>\n",
       "      <td>0</td>\n",
       "      <td>9.47</td>\n",
       "      <td>7.39</td>\n",
       "      <td>0.89</td>\n",
       "      <td>14.12</td>\n",
       "      <td>251</td>\n",
       "      <td>15.83</td>\n",
       "      <td>1015.13</td>\n",
       "    </tr>\n",
       "    <tr>\n",
       "      <th>1</th>\n",
       "      <td>0</td>\n",
       "      <td>9.36</td>\n",
       "      <td>7.23</td>\n",
       "      <td>0.86</td>\n",
       "      <td>14.26</td>\n",
       "      <td>259</td>\n",
       "      <td>15.83</td>\n",
       "      <td>1015.63</td>\n",
       "    </tr>\n",
       "    <tr>\n",
       "      <th>2</th>\n",
       "      <td>0</td>\n",
       "      <td>9.38</td>\n",
       "      <td>9.38</td>\n",
       "      <td>0.89</td>\n",
       "      <td>3.93</td>\n",
       "      <td>204</td>\n",
       "      <td>14.96</td>\n",
       "      <td>1015.94</td>\n",
       "    </tr>\n",
       "    <tr>\n",
       "      <th>3</th>\n",
       "      <td>0</td>\n",
       "      <td>8.29</td>\n",
       "      <td>5.94</td>\n",
       "      <td>0.83</td>\n",
       "      <td>14.10</td>\n",
       "      <td>269</td>\n",
       "      <td>15.83</td>\n",
       "      <td>1016.41</td>\n",
       "    </tr>\n",
       "    <tr>\n",
       "      <th>4</th>\n",
       "      <td>0</td>\n",
       "      <td>8.76</td>\n",
       "      <td>6.98</td>\n",
       "      <td>0.83</td>\n",
       "      <td>11.04</td>\n",
       "      <td>259</td>\n",
       "      <td>15.83</td>\n",
       "      <td>1016.51</td>\n",
       "    </tr>\n",
       "    <tr>\n",
       "      <th>...</th>\n",
       "      <td>...</td>\n",
       "      <td>...</td>\n",
       "      <td>...</td>\n",
       "      <td>...</td>\n",
       "      <td>...</td>\n",
       "      <td>...</td>\n",
       "      <td>...</td>\n",
       "      <td>...</td>\n",
       "    </tr>\n",
       "    <tr>\n",
       "      <th>96448</th>\n",
       "      <td>0</td>\n",
       "      <td>26.02</td>\n",
       "      <td>26.02</td>\n",
       "      <td>0.43</td>\n",
       "      <td>11.00</td>\n",
       "      <td>31</td>\n",
       "      <td>16.10</td>\n",
       "      <td>1014.36</td>\n",
       "    </tr>\n",
       "    <tr>\n",
       "      <th>96449</th>\n",
       "      <td>0</td>\n",
       "      <td>24.58</td>\n",
       "      <td>24.58</td>\n",
       "      <td>0.48</td>\n",
       "      <td>10.09</td>\n",
       "      <td>20</td>\n",
       "      <td>15.55</td>\n",
       "      <td>1015.16</td>\n",
       "    </tr>\n",
       "    <tr>\n",
       "      <th>96450</th>\n",
       "      <td>0</td>\n",
       "      <td>22.04</td>\n",
       "      <td>22.04</td>\n",
       "      <td>0.56</td>\n",
       "      <td>8.98</td>\n",
       "      <td>30</td>\n",
       "      <td>16.10</td>\n",
       "      <td>1015.66</td>\n",
       "    </tr>\n",
       "    <tr>\n",
       "      <th>96451</th>\n",
       "      <td>0</td>\n",
       "      <td>21.52</td>\n",
       "      <td>21.52</td>\n",
       "      <td>0.60</td>\n",
       "      <td>10.53</td>\n",
       "      <td>20</td>\n",
       "      <td>16.10</td>\n",
       "      <td>1015.95</td>\n",
       "    </tr>\n",
       "    <tr>\n",
       "      <th>96452</th>\n",
       "      <td>0</td>\n",
       "      <td>20.44</td>\n",
       "      <td>20.44</td>\n",
       "      <td>0.61</td>\n",
       "      <td>5.88</td>\n",
       "      <td>39</td>\n",
       "      <td>15.52</td>\n",
       "      <td>1016.16</td>\n",
       "    </tr>\n",
       "  </tbody>\n",
       "</table>\n",
       "<p>96453 rows × 8 columns</p>\n",
       "</div>"
      ],
      "text/plain": [
       "       precip_type  temperature  apparent_temperature  humidity  wind_speed  \\\n",
       "0                0         9.47                  7.39      0.89       14.12   \n",
       "1                0         9.36                  7.23      0.86       14.26   \n",
       "2                0         9.38                  9.38      0.89        3.93   \n",
       "3                0         8.29                  5.94      0.83       14.10   \n",
       "4                0         8.76                  6.98      0.83       11.04   \n",
       "...            ...          ...                   ...       ...         ...   \n",
       "96448            0        26.02                 26.02      0.43       11.00   \n",
       "96449            0        24.58                 24.58      0.48       10.09   \n",
       "96450            0        22.04                 22.04      0.56        8.98   \n",
       "96451            0        21.52                 21.52      0.60       10.53   \n",
       "96452            0        20.44                 20.44      0.61        5.88   \n",
       "\n",
       "       wind_bearing  visibility  pressure  \n",
       "0               251       15.83   1015.13  \n",
       "1               259       15.83   1015.63  \n",
       "2               204       14.96   1015.94  \n",
       "3               269       15.83   1016.41  \n",
       "4               259       15.83   1016.51  \n",
       "...             ...         ...       ...  \n",
       "96448            31       16.10   1014.36  \n",
       "96449            20       15.55   1015.16  \n",
       "96450            30       16.10   1015.66  \n",
       "96451            20       16.10   1015.95  \n",
       "96452            39       15.52   1016.16  \n",
       "\n",
       "[96453 rows x 8 columns]"
      ]
     },
     "execution_count": 6,
     "metadata": {},
     "output_type": "execute_result"
    }
   ],
   "source": [
    "dfnew = df.drop(['Year','recording_date_time'], axis = 1)\n",
    "dfnew"
   ]
  },
  {
   "cell_type": "code",
   "execution_count": 7,
   "metadata": {
    "scrolled": true
   },
   "outputs": [
    {
     "name": "stdout",
     "output_type": "stream",
     "text": [
      "\u001b[93m\u001b[4m\u001b[1mCORRELATION MATRIX:\u001b[0m\n"
     ]
    },
    {
     "data": {
      "image/png": "[encoded data removed]",
      "text/plain": [
       "<Figure size 864x720 with 2 Axes>"
      ]
     },
     "metadata": {
      "needs_background": "light"
     },
     "output_type": "display_data"
    }
   ],
   "source": [
    "#Using Pearson Correlation\n",
    "print(color.YELLOW + color.UNDERLINE + color.BOLD + 'CORRELATION MATRIX:' + color.END)\n",
    "cor = dfnew.corr()\n",
    "plt.figure(figsize=(12,10))\n",
    "sns.heatmap(cor, annot=True, cmap=plt.cm.Reds)\n",
    "plt.show()"
   ]
  },
  {
   "cell_type": "code",
   "execution_count": 8,
   "metadata": {},
   "outputs": [
    {
     "data": {
      "text/plain": [
       "precip_type             0.553872\n",
       "temperature             1.000000\n",
       "apparent_temperature    0.992628\n",
       "humidity                0.632253\n",
       "Name: temperature, dtype: float64"
      ]
     },
     "execution_count": 8,
     "metadata": {},
     "output_type": "execute_result"
    }
   ],
   "source": [
    "#Correlation with output variable\n",
    "cor_target = abs(cor['temperature'])\n",
    "#Selecting highly correlated features\n",
    "relevant_features = cor_target[cor_target>0.5]\n",
    "relevant_features"
   ]
  },
  {
   "cell_type": "code",
   "execution_count": 9,
   "metadata": {
    "scrolled": true
   },
   "outputs": [
    {
     "name": "stdout",
     "output_type": "stream",
     "text": [
      "                      apparent_temperature  humidity\n",
      "apparent_temperature               1.00000  -0.60257\n",
      "humidity                          -0.60257   1.00000\n",
      "                      apparent_temperature  precip_type\n",
      "apparent_temperature              1.000000    -0.555889\n",
      "precip_type                      -0.555889     1.000000\n",
      "             humidity  precip_type\n",
      "humidity     1.000000     0.228314\n",
      "precip_type  0.228314     1.000000\n"
     ]
    }
   ],
   "source": [
    "# One of the assumptions of linear regression is that the independent variables need to be uncorrelated with each other. \n",
    "print(df[['apparent_temperature','humidity']].corr())\n",
    "print(df[['apparent_temperature','precip_type']].corr())\n",
    "print(df[['humidity','precip_type']].corr())"
   ]
  },
  {
   "cell_type": "code",
   "execution_count": 10,
   "metadata": {},
   "outputs": [],
   "source": [
    "# From the above code,\n",
    "# the variables Apparent_temperature and Humidity are highly correlated with each other (-0.60257). \n",
    "# We will keep Apparent_temperature since its correlation with Temperature is higher than that of Humidity.\n",
    "# After dropping Apparent_temperature, we are left with two feature, Apparent_temperature and Precip_type. \n",
    "# These are the final features given by Pearson correlation."
   ]
  },
  {
   "cell_type": "markdown",
   "metadata": {
    "colab_type": "text",
    "id": "_mC_pm60V4VB"
   },
   "source": [
    "3.  Now create a linear model considering the 'temperature' as the target variable and other columns as features (you can optionally remove non-contributing features). Show the test performance (as Mean Absolute Error, MAE) of the model. **(5 marks)**"
   ]
  },
  {
   "cell_type": "code",
   "execution_count": 11,
   "metadata": {
    "colab": {},
    "colab_type": "code",
    "id": "wUIhRhssWq8h"
   },
   "outputs": [
    {
     "name": "stdout",
     "output_type": "stream",
     "text": [
      "\u001b[1m\u001b[4m\u001b[93mXtrain\u001b[0m (78909, 3)    apparent_temperature  precip_type  humidity\n",
      "0                  7.39            0      0.89\n",
      "1                  7.23            0      0.86\n",
      "2                  9.38            0      0.89\n",
      "3                  5.94            0      0.83\n",
      "4                  6.98            0      0.83\n",
      "\u001b[1m\u001b[4m\u001b[93mYtrain\u001b[0m (78909,) 0    9.47\n",
      "1    9.36\n",
      "2    9.38\n",
      "3    8.29\n",
      "4    8.76\n",
      "Name: temperature, dtype: float64\n",
      "\u001b[1m\u001b[4m\u001b[93mXtest\u001b[0m (17544, 3)        apparent_temperature  precip_type  humidity\n",
      "78909                 11.02            0      0.71\n",
      "78910                 10.99            0      0.62\n",
      "78911                  7.02            0      0.64\n",
      "78912                  6.56            0      0.67\n",
      "78913                  5.61            0      0.67\n",
      "\u001b[1m\u001b[4m\u001b[93mYtest\u001b[0m (17544,) 78909    11.02\n",
      "78910    10.99\n",
      "78911     9.87\n",
      "78912     8.84\n",
      "78913     8.31\n",
      "Name: temperature, dtype: float64\n"
     ]
    }
   ],
   "source": [
    "#X indicates predictors, Y indicates label target.\n",
    "Xtrain0 = train.loc[:,('apparent_temperature','precip_type','humidity')]\n",
    "Ytrain0 = train['temperature'] \n",
    "print(color.BOLD + color.UNDERLINE + color.YELLOW + 'Xtrain' + color.END, Xtrain0.shape, Xtrain0.head(5))\n",
    "print(color.BOLD + color.UNDERLINE + color.YELLOW + 'Ytrain' + color.END, Ytrain0.shape, Ytrain0.head(5))\n",
    "\n",
    "Xtest0 = test.loc[:,('apparent_temperature','precip_type','humidity')]\n",
    "Ytest0 = test['temperature']\n",
    "print(color.BOLD + color.UNDERLINE + color.YELLOW + 'Xtest' + color.END, Xtest0.shape, Xtest0.head(5))\n",
    "print(color.BOLD + color.UNDERLINE + color.YELLOW + 'Ytest' + color.END, Ytest0.shape, Ytest0.head(5))"
   ]
  },
  {
   "cell_type": "code",
   "execution_count": 12,
   "metadata": {},
   "outputs": [
    {
     "name": "stdout",
     "output_type": "stream",
     "text": [
      "\u001b[1m\u001b[4m\u001b[91mTHE PREDICTED TEMPERATURE\u001b[0m\n",
      "[12.17595369 12.40167295  8.97408719 ... 21.95402296 21.40073753\n",
      " 20.45557092]\n",
      "\u001b[1m\u001b[4m\u001b[91mTHE TRUE TEMPERATURE\u001b[0m\n",
      "78909    11.02\n",
      "78910    10.99\n",
      "78911     9.87\n",
      "78912     8.84\n",
      "78913     8.31\n",
      "         ...  \n",
      "96448    26.02\n",
      "96449    24.58\n",
      "96450    22.04\n",
      "96451    21.52\n",
      "96452    20.44\n",
      "Name: temperature, Length: 17544, dtype: float64\n",
      "\u001b[1m\u001b[91mThe Mean Square Error is\u001b[0m 0.9453236601477598\n",
      "\u001b[1m\u001b[91mThe Mean Absolute Error is\u001b[0m 0.7635283567084327\n"
     ]
    }
   ],
   "source": [
    "from sklearn.linear_model import LinearRegression\n",
    "LINEAR = LinearRegression(normalize=True)\n",
    "\n",
    "#fit the model using our data\n",
    "LINEAR.fit(Xtrain0, Ytrain0)\n",
    "#Now that we have built our model, lets see how it performs with our test dataset\n",
    "Ypred0 = LINEAR.predict(Xtest0)\n",
    "\n",
    "print(color.BOLD + color.UNDERLINE + color.RED + \"THE PREDICTED TEMPERATURE\"+ color.END)\n",
    "print(Ypred0)\n",
    "print(color.BOLD + color.UNDERLINE + color.RED +\"THE TRUE TEMPERATURE\"+ color.END)\n",
    "print(Ytest0)\n",
    "\n",
    "#Test performance:Mean Squared Error \n",
    "from sklearn.metrics import mean_squared_error\n",
    "MSE = mean_squared_error(Ytest0,Ypred0) \n",
    "print(color.BOLD + color.RED + 'The Mean Square Error is'+ color.END, MSE )\n",
    "#Test performance:Mean Absolute Error \n",
    "from sklearn.metrics import mean_absolute_error\n",
    "MAE = mean_absolute_error(Ytest0,Ypred0) \n",
    "print(color.BOLD + color.RED + 'The Mean Absolute Error is'+ color.END,MAE)"
   ]
  },
  {
   "cell_type": "markdown",
   "metadata": {
    "colab_type": "text",
    "id": "v428CdiaOaad"
   },
   "source": [
    "4.   Find the feature which shows maximum correlation with \"pressure\". Create a linear regression model to predict temperature using these two features ('pressure' and the one which shows maximum correlation). Compare the performance of this simplified model with the model developed in the previous question (Q-3). Explain the performance variation, if any. **(6 marks)**"
   ]
  },
  {
   "cell_type": "code",
   "execution_count": 13,
   "metadata": {
    "colab": {},
    "colab_type": "code",
    "id": "aKsPiuGCOM5F",
    "scrolled": false
   },
   "outputs": [
    {
     "name": "stdout",
     "output_type": "stream",
     "text": [
      "\u001b[1m\u001b[93mThe two features used for linear regression model are\u001b[0m\n",
      "pressure      1.000000\n",
      "visibility    0.059826\n",
      "Name: pressure, dtype: float64\n"
     ]
    }
   ],
   "source": [
    "#Correlation with Pressure \n",
    "cor_target1 = abs(cor['pressure'])\n",
    "#Selecting the highest correlated feature\n",
    "relevant_features1 = cor_target1.sort_values(ascending=False)\n",
    "relevant_features1\n",
    "print (color.BOLD + color.YELLOW +'The two features used for linear regression model are'+ color.END)\n",
    "print(relevant_features1.head(2))"
   ]
  },
  {
   "cell_type": "code",
   "execution_count": 14,
   "metadata": {},
   "outputs": [
    {
     "name": "stdout",
     "output_type": "stream",
     "text": [
      "\u001b[1m\u001b[4m\u001b[93mXtrain\u001b[0m (78909, 2)    pressure  visibility\n",
      "0   1015.13       15.83\n",
      "1   1015.63       15.83\n",
      "2   1015.94       14.96\n",
      "3   1016.41       15.83\n",
      "4   1016.51       15.83\n",
      "\u001b[1m\u001b[4m\u001b[93mYtrain\u001b[0m (78909,) 0    9.47\n",
      "1    9.36\n",
      "2    9.38\n",
      "3    8.29\n",
      "4    8.76\n",
      "Name: temperature, dtype: float64\n",
      "\u001b[1m\u001b[4m\u001b[93mXtest\u001b[0m (17544, 2)        pressure  visibility\n",
      "78909   1004.56       10.26\n",
      "78910   1005.28       10.26\n",
      "78911   1006.28       14.39\n",
      "78912   1006.34       15.18\n",
      "78913   1007.65       15.18\n",
      "\u001b[1m\u001b[4m\u001b[93mYtest\u001b[0m (17544,) 78909    11.02\n",
      "78910    10.99\n",
      "78911     9.87\n",
      "78912     8.84\n",
      "78913     8.31\n",
      "Name: temperature, dtype: float64\n"
     ]
    }
   ],
   "source": [
    "#X indicates predictors, Y indicates label target.\n",
    "Xtrain1 = train.loc[:,('pressure','visibility')]\n",
    "Ytrain1 = train['temperature'] \n",
    "print(color.BOLD + color.UNDERLINE + color.YELLOW + 'Xtrain' + color.END, Xtrain1.shape, Xtrain1.head(5))\n",
    "print(color.BOLD + color.UNDERLINE + color.YELLOW + 'Ytrain' + color.END, Ytrain1.shape, Ytrain1.head(5))\n",
    "\n",
    "Xtest1 = test.loc[:,('pressure','visibility')]\n",
    "Ytest1 = test['temperature']\n",
    "print(color.BOLD + color.UNDERLINE + color.YELLOW + 'Xtest' + color.END, Xtest1.shape, Xtest1.head(5))\n",
    "print(color.BOLD + color.UNDERLINE + color.YELLOW + 'Ytest' + color.END, Ytest1.shape, Ytest1.head(5))"
   ]
  },
  {
   "cell_type": "code",
   "execution_count": 15,
   "metadata": {},
   "outputs": [
    {
     "name": "stdout",
     "output_type": "stream",
     "text": [
      "\u001b[1m\u001b[4m\u001b[91mTHE PREDICTED TEMPERATURE\u001b[0m\n",
      "[11.94574457 11.94406162 15.62928099 ... 17.13416513 17.13348728\n",
      " 16.6151313 ]\n",
      "\u001b[1m\u001b[4m\u001b[91mTHE TRUE TEMPERATURE\u001b[0m\n",
      "78909    11.02\n",
      "78910    10.99\n",
      "78911     9.87\n",
      "78912     8.84\n",
      "78913     8.31\n",
      "         ...  \n",
      "96448    26.02\n",
      "96449    24.58\n",
      "96450    22.04\n",
      "96451    21.52\n",
      "96452    20.44\n",
      "Name: temperature, Length: 17544, dtype: float64\n",
      "\u001b[1m\u001b[91mThe Mean Square Error of using Pressure and Visibility attributes is\u001b[0m 64.7674290984127\n",
      "\u001b[1m\u001b[91mThe Mean Absolute Error of using Pressure and Visibility attributes is\u001b[0m 6.498840791843139\n"
     ]
    }
   ],
   "source": [
    "from sklearn.linear_model import LinearRegression\n",
    "LINEAR = LinearRegression(normalize=True)\n",
    "\n",
    "#fit the model using our data\n",
    "LINEAR.fit(Xtrain1, Ytrain1)\n",
    "#Now that we have built our model, lets see how it performs with our test dataset\n",
    "Ypred1 = LINEAR.predict(Xtest1)\n",
    "\n",
    "print(color.BOLD + color.UNDERLINE + color.RED + \"THE PREDICTED TEMPERATURE\"+ color.END)\n",
    "print(Ypred1)\n",
    "print(color.BOLD + color.UNDERLINE + color.RED +\"THE TRUE TEMPERATURE\"+ color.END)\n",
    "print(Ytest1)\n",
    "\n",
    "#Test performance:Mean Squared Error \n",
    "from sklearn.metrics import mean_squared_error\n",
    "MSE1 = mean_squared_error(Ytest1,Ypred1) \n",
    "print(color.BOLD + color.RED + 'The Mean Square Error of using Pressure and Visibility attributes is'+ color.END, MSE1 )\n",
    "#Test performance:Mean Absolute Error \n",
    "from sklearn.metrics import mean_absolute_error\n",
    "MAE1 = mean_absolute_error(Ytest1,Ypred1) \n",
    "print(color.BOLD + color.RED + 'The Mean Absolute Error of using Pressure and Visibility attributes is'+ color.END, MAE1)"
   ]
  },
  {
   "cell_type": "code",
   "execution_count": 37,
   "metadata": {},
   "outputs": [
    {
     "name": "stdout",
     "output_type": "stream",
     "text": [
      "Compare the performance of this simplified model with the model developed in the previous question (Q-3),The Mean Square Error (MSE) and the Mean Absolute Error (MAE) from the model using Pressure and Visibility attributes are significantly higher than the MSE and MAE from the model in question 3.\n"
     ]
    }
   ],
   "source": [
    "print(\"Compare the performance of this simplified model with the model developed in the previous question (Q-3),The Mean Square Error (MSE) and the Mean Absolute Error (MAE) from the model using Pressure and Visibility attributes are significantly higher than the MSE and MAE from the model in question 3, which indicates lesser accuracy.\")"
   ]
  },
  {
   "cell_type": "markdown",
   "metadata": {
    "colab_type": "text",
    "id": "0-jv9d7oOtHe"
   },
   "source": [
    "5. Apportion the complete dataset into training and test sets, with an 40-60 split. **(6 marks)**\n",
    "\n",
    "  (a)  Train a linear regression model without considering overfitting scenario and report the test performance. \n",
    "  \n",
    "  (b) Create an optimal regularised linear regression model and report the test performance.\n",
    "  \n",
    "  (c) Explain the reason behind the performance variation, if any.\n"
   ]
  },
  {
   "cell_type": "code",
   "execution_count": 16,
   "metadata": {
    "scrolled": true
   },
   "outputs": [
    {
     "name": "stdout",
     "output_type": "stream",
     "text": [
      "\u001b[1m\u001b[4m\u001b[93mtraining data\u001b[0m (38581, 8)\n",
      "   precip_type  temperature  apparent_temperature  humidity  wind_speed  \\\n",
      "0            0         9.47                  7.39      0.89       14.12   \n",
      "1            0         9.36                  7.23      0.86       14.26   \n",
      "2            0         9.38                  9.38      0.89        3.93   \n",
      "3            0         8.29                  5.94      0.83       14.10   \n",
      "4            0         8.76                  6.98      0.83       11.04   \n",
      "\n",
      "   wind_bearing  visibility  pressure  \n",
      "0           251       15.83   1015.13  \n",
      "1           259       15.83   1015.63  \n",
      "2           204       14.96   1015.94  \n",
      "3           269       15.83   1016.41  \n",
      "4           259       15.83   1016.51  \n",
      "\u001b[1m\u001b[4m\u001b[93mtesting data\u001b[0m (57872, 8)\n",
      "       precip_type  temperature  apparent_temperature  humidity  wind_speed  \\\n",
      "38581            1        -2.73                 -6.89      0.73       11.21   \n",
      "38582            1        -3.76                 -8.47      0.78       12.56   \n",
      "38583            1        -3.83                 -8.60      0.79       12.75   \n",
      "38584            1        -4.83                -10.37      0.86       15.10   \n",
      "38585            1        -5.01                -11.78      0.85       21.41   \n",
      "\n",
      "       wind_bearing  visibility  pressure  \n",
      "38581           155        9.98   1022.30  \n",
      "38582           130        8.13   1021.80  \n",
      "38583           130        7.21   1021.59  \n",
      "38584           135        6.49   1021.07  \n",
      "38585           120        7.21   1020.77  \n"
     ]
    }
   ],
   "source": [
    "#Split data\n",
    "train2, test2 = np.split(dfnew, [int(.4*len(dfnew))])\n",
    "print(color.BOLD + color.UNDERLINE + color.YELLOW + 'training data' + color.END, train2.shape)\n",
    "print(train2.head(5))\n",
    "print(color.BOLD + color.UNDERLINE + color.YELLOW + 'testing data' + color.END, test2.shape)\n",
    "print(test2.head(5))\n"
   ]
  },
  {
   "cell_type": "code",
   "execution_count": 17,
   "metadata": {},
   "outputs": [
    {
     "name": "stdout",
     "output_type": "stream",
     "text": [
      "\u001b[1m\u001b[4m\u001b[93mXtrain2\u001b[0m (38581, 7)    precip_type  apparent_temperature  humidity  wind_speed  wind_bearing  \\\n",
      "0            0                  7.39      0.89       14.12           251   \n",
      "1            0                  7.23      0.86       14.26           259   \n",
      "2            0                  9.38      0.89        3.93           204   \n",
      "3            0                  5.94      0.83       14.10           269   \n",
      "4            0                  6.98      0.83       11.04           259   \n",
      "\n",
      "   visibility  pressure  \n",
      "0       15.83   1015.13  \n",
      "1       15.83   1015.63  \n",
      "2       14.96   1015.94  \n",
      "3       15.83   1016.41  \n",
      "4       15.83   1016.51  \n",
      "\u001b[1m\u001b[4m\u001b[93mYtrain2\u001b[0m (38581,) 0    9.47\n",
      "1    9.36\n",
      "2    9.38\n",
      "3    8.29\n",
      "4    8.76\n",
      "Name: temperature, dtype: float64\n",
      "\u001b[1m\u001b[4m\u001b[93mXtest2\u001b[0m (57872, 7)        precip_type  apparent_temperature  humidity  wind_speed  wind_bearing  \\\n",
      "38581            1                 -6.89      0.73       11.21           155   \n",
      "38582            1                 -8.47      0.78       12.56           130   \n",
      "38583            1                 -8.60      0.79       12.75           130   \n",
      "38584            1                -10.37      0.86       15.10           135   \n",
      "38585            1                -11.78      0.85       21.41           120   \n",
      "\n",
      "       visibility  pressure  \n",
      "38581        9.98   1022.30  \n",
      "38582        8.13   1021.80  \n",
      "38583        7.21   1021.59  \n",
      "38584        6.49   1021.07  \n",
      "38585        7.21   1020.77  \n",
      "\u001b[1m\u001b[4m\u001b[93mYtest2\u001b[0m (57872,) 38581   -2.73\n",
      "38582   -3.76\n",
      "38583   -3.83\n",
      "38584   -4.83\n",
      "38585   -5.01\n",
      "Name: temperature, dtype: float64\n"
     ]
    }
   ],
   "source": [
    "#X indicates predictors, Y indicates label target.\n",
    "Xtrain2 = train2.drop(['temperature'],axis=1)\n",
    "Ytrain2 = train2['temperature'] \n",
    "print(color.BOLD + color.UNDERLINE + color.YELLOW + 'Xtrain2' + color.END, Xtrain2.shape, Xtrain2.head(5))\n",
    "print(color.BOLD + color.UNDERLINE + color.YELLOW + 'Ytrain2' + color.END, Ytrain2.shape, Ytrain2.head(5))\n",
    "\n",
    "Xtest2 = test2.drop(['temperature'],axis=1)\n",
    "Ytest2 = test2['temperature']\n",
    "print(color.BOLD + color.UNDERLINE + color.YELLOW + 'Xtest2' + color.END, Xtest2.shape, Xtest2.head(5))\n",
    "print(color.BOLD + color.UNDERLINE + color.YELLOW + 'Ytest2' + color.END, Ytest2.shape, Ytest2.head(5))"
   ]
  },
  {
   "cell_type": "code",
   "execution_count": 18,
   "metadata": {
    "colab": {},
    "colab_type": "code",
    "id": "jNk_egyXONc2"
   },
   "outputs": [
    {
     "name": "stdout",
     "output_type": "stream",
     "text": [
      "\u001b[1m\u001b[4m\u001b[91mTHE PREDICTED TEMPERATURE\u001b[0m\n",
      "[-3.48180484 -4.82031042 -4.9353084  ... 21.82082427 21.44603359\n",
      " 20.07335702]\n",
      "\u001b[1m\u001b[4m\u001b[91mTHE TRUE TEMPERATURE\u001b[0m\n",
      "38581    -2.73\n",
      "38582    -3.76\n",
      "38583    -3.83\n",
      "38584    -4.83\n",
      "38585    -5.01\n",
      "         ...  \n",
      "96448    26.02\n",
      "96449    24.58\n",
      "96450    22.04\n",
      "96451    21.52\n",
      "96452    20.44\n",
      "Name: temperature, Length: 57872, dtype: float64\n",
      "\u001b[1m\u001b[91mThe Mean Square Error is\u001b[0m 0.8852065269363524\n",
      "\u001b[1m\u001b[91mThe Mean Absolute Error is\u001b[0m 0.7331198184145021\n"
     ]
    }
   ],
   "source": [
    "####(a) Train Linear Regression model ###\n",
    "from sklearn.linear_model import LinearRegression\n",
    "LINEAR = LinearRegression(normalize=True)\n",
    "\n",
    "#fit the model using our data\n",
    "LINEAR.fit(Xtrain2, Ytrain2)\n",
    "#Now that we have built our model, lets see how it performs with our test dataset\n",
    "Ypred2 = LINEAR.predict(Xtest2)\n",
    "\n",
    "print(color.BOLD + color.UNDERLINE + color.RED + \"THE PREDICTED TEMPERATURE\"+ color.END)\n",
    "print(Ypred2)\n",
    "print(color.BOLD + color.UNDERLINE + color.RED +\"THE TRUE TEMPERATURE\"+ color.END)\n",
    "print(Ytest2)\n",
    "\n",
    "#Test performance:Mean Squared Error \n",
    "from sklearn.metrics import mean_squared_error\n",
    "MSE2 = mean_squared_error(Ytest2,Ypred2) \n",
    "print(color.BOLD + color.RED + 'The Mean Square Error is'+ color.END, MSE2 )\n",
    "#Test performance:Mean Absolute Error \n",
    "from sklearn.metrics import mean_absolute_error\n",
    "MAE2 = mean_absolute_error(Ytest2,Ypred2) \n",
    "print(color.BOLD + color.RED + 'The Mean Absolute Error is'+ color.END, MAE2)"
   ]
  },
  {
   "cell_type": "code",
   "execution_count": 33,
   "metadata": {},
   "outputs": [
    {
     "name": "stdout",
     "output_type": "stream",
     "text": [
      "\u001b[93mThe parameter that gave the best results is\u001b[0m {'alpha': 0.001}\n",
      "\u001b[93mThe best estimator that was chosen:\u001b[0m Ridge(alpha=0.001, normalize=True)\n",
      "\u001b[93mThe  Mean Absolute Error after run cross-validation is:\u001b[0m 0.7618672738280382\n",
      "\u001b[1m\u001b[91mThe Mean Absolute for honest testing is:\u001b[0m 0.7330325257284986\n"
     ]
    }
   ],
   "source": [
    "####(b) Optimal regularised linear regression model###\n",
    "\n",
    "##RIDGE###\n",
    "from sklearn.model_selection import GridSearchCV\n",
    "from sklearn.linear_model import Ridge\n",
    "\n",
    "alphaLR = [.001,.003,.01,.03,1,3,5,10,30]\n",
    "\n",
    "ridgeLR = Ridge(normalize=True)\n",
    "\n",
    "parameters = {'alpha': [.001,.003,.01,.03,1,3,5,10,30]}\n",
    "\n",
    "ridgeopt= GridSearchCV(ridgeLR, parameters, scoring='neg_mean_absolute_error', cv=10)\n",
    "\n",
    "ridgeopt.fit(Xtrain2, Ytrain2)\n",
    "\n",
    "print(color.YELLOW + \"The parameter that gave the best results is\"+ color.END, ridgeopt.best_params_)\n",
    "print(color.YELLOW + \"The best estimator that was chosen:\"+ color.END, ridgeopt.best_estimator_)\n",
    "print(color.YELLOW + \"The  Mean Absolute Error after run cross-validation is:\"+ color.END,-ridgeopt.best_score_)\n",
    "\n",
    "# Returns the score on the given data, if the estimator has been refit.\n",
    "#This uses the score defined by 'scoring' where provided, and the 'best_estimator_.score' method otherwise\n",
    "#Similar to honest testing\n",
    "print(color.BOLD + color.RED + \"The Mean Absolute for honest testing is:\"+ color.END, -ridgeopt.score(Xtest2, Ytest2))"
   ]
  },
  {
   "cell_type": "code",
   "execution_count": 34,
   "metadata": {},
   "outputs": [
    {
     "name": "stdout",
     "output_type": "stream",
     "text": [
      "\u001b[93mThe parameter that gave the best results is\u001b[0m {'alpha': 1e-05}\n",
      "\u001b[93mThe best estimator that was chosen\u001b[0m Lasso(alpha=1e-05, max_iter=100000.0, normalize=True)\n",
      "\u001b[93mThe  Mean Absolute Error after run cross-validation is\u001b[0m 0.9637888655571556\n",
      "\u001b[1m\u001b[91mThe Mean Absolute Error honest testing is:\u001b[0m 0.8850614831311039\n"
     ]
    }
   ],
   "source": [
    "###lASSO###\n",
    "from sklearn.linear_model import Lasso\n",
    "\n",
    "alphaLR = [1e-10, 1e-5, 1e-3, .001, .01, 1]\n",
    "\n",
    "lassoLR = Lasso(normalize=True, max_iter=1e5)\n",
    "\n",
    "parameters1 = {'alpha': [1e-10, 1e-5, 1e-3, .001, .01, 1]}\n",
    "\n",
    "lassoopt = GridSearchCV(lassoLR, parameters1, scoring='neg_mean_squared_error', cv = 10)\n",
    "\n",
    "lassoopt.fit(Xtrain2, Ytrain2)\n",
    "print(color.YELLOW + \"The parameter that gave the best results is\"+ color.END, lassoopt.best_params_)\n",
    "print(color.YELLOW + \"The best estimator that was chosen\"+ color.END, lassoopt.best_estimator_)\n",
    "print(color.YELLOW + \"The  Mean Absolute Error after run cross-validation is\" + color.END, -lassoopt.best_score_)\n",
    "\n",
    "# Returns the score on the given data, if the estimator has been refit.\n",
    "#This uses the score defined by 'scoring' where provided, and the 'best_estimator_.score' method otherwise\n",
    "#Similar to honest testing\n",
    "print(color.BOLD + color.RED +  \"The Mean Absolute Error honest testing is:\"+ color.END, -lassoopt.score(Xtest2, Ytest2))"
   ]
  },
  {
   "cell_type": "code",
   "execution_count": 35,
   "metadata": {},
   "outputs": [
    {
     "name": "stdout",
     "output_type": "stream",
     "text": [
      "The Mean Absoute Error after runing cross-validation applied by Ridge is lower applied by Lasso (0.7618672738280382 < 0.9637888655571556)\n",
      "The Mean Absoute Error for honest testing applied by Ridge is lower using applied by Lasso (0.7330325257284986 < 0.8850614831311039)\n"
     ]
    }
   ],
   "source": [
    "###(c)####\n",
    "print(\"The Mean Absoute Error after runing cross-validation applied by Ridge is lower applied by Lasso (0.7618672738280382 < 0.9637888655571556)\")\n",
    "print(\"The Mean Absoute Error for honest testing applied by Ridge is lower using applied by Lasso (0.7330325257284986 < 0.8850614831311039)\")\n",
    "print(\"The performance of predicted values applied by Ridge Regression is more accurated than the performance of predicted values applied by Lasso Regression\")"
   ]
  },
  {
   "cell_type": "markdown",
   "metadata": {
    "colab_type": "text",
    "id": "CtcCZwIMOxwi"
   },
   "source": [
    "##**Part 2: Logistic Regression:**  **(9 marks)**\n",
    "\n",
    "\n",
    "1.  Can the same target (temperature, mentioned in Part-1) be used for logistic regression? Why? **(2 marks)**"
   ]
  },
  {
   "cell_type": "markdown",
   "metadata": {
    "colab": {},
    "colab_type": "code",
    "id": "knM4rfghOORu"
   },
   "source": [
    "No, because logistic regrgession is used to explain the relationship between one dependent binary variable and one or more nominal, ordinal, interval or ratio-level independent variables. Whereas, Temperature attribute is a numerical variable with a wide range of values."
   ]
  },
  {
   "cell_type": "markdown",
   "metadata": {
    "colab_type": "text",
    "id": "a5w0t5-To1nB"
   },
   "source": [
    "2.  Split the dataset as 70-30% for training and testing. Create a logistic regression model to predict the 'precip_type'. Report the prediction accuracy of your model whether the \"precip_type\" is \"rain\" or not (use decision threshold of 0.45). **(5 marks)**\n",
    "\n"
   ]
  },
  {
   "cell_type": "code",
   "execution_count": 21,
   "metadata": {},
   "outputs": [],
   "source": [
    "trainLR,testLR = train_test_split(dfnew, test_size=0.3, random_state=0)\n",
    "from sklearn.linear_model import LogisticRegression\n",
    "from sklearn.metrics import accuracy_score\n",
    "\n",
    "#X indicates predictors, Y indicates label target.\n",
    "XtrainLR = trainLR.drop(['precip_type'],axis=1)\n",
    "YtrainLR = trainLR['precip_type'] \n",
    "\n",
    "XtestLR = testLR.drop(['precip_type'],axis=1)\n",
    "YtestLR = testLR['precip_type']"
   ]
  },
  {
   "cell_type": "code",
   "execution_count": 22,
   "metadata": {},
   "outputs": [],
   "source": [
    "# Create regularization hyperparameter space\n",
    "lambda_val =[.0001,.0003,.001,.003,.01,.03,.1,.3,1,3,5,10]\n",
    "C = [1/x for x in lambda_val]\n",
    "\n",
    "# Create hyperparameter options\n",
    "hyperparameters = dict(C=C)"
   ]
  },
  {
   "cell_type": "code",
   "execution_count": 23,
   "metadata": {},
   "outputs": [
    {
     "name": "stdout",
     "output_type": "stream",
     "text": [
      "The parameter that gave the best results for L1 is {'C': 3.3333333333333335}\n",
      "The accuracy is 0.9169200995299972\n"
     ]
    }
   ],
   "source": [
    "# Lasso\n",
    "lgL = LogisticRegression(class_weight ='balanced', random_state=0, solver='liblinear', penalty = 'l1')\n",
    "\n",
    "lg_optL = GridSearchCV(lgL, hyperparameters, scoring='accuracy',cv=5)\n",
    "\n",
    "lg_optL.fit(XtrainLR,YtrainLR)\n",
    "\n",
    "print( \"The parameter that gave the best results for L1 is\", lg_optL.best_params_)\n",
    "print( \"The accuracy is\" , lg_optL.score(XtestLR,YtestLR))\n",
    "print(\"The parameter that gave the best results for L1 is {'C': 3.3333333333333335} and The accuracy is 0.9169200995299972\")"
   ]
  },
  {
   "cell_type": "code",
   "execution_count": 24,
   "metadata": {},
   "outputs": [
    {
     "name": "stdout",
     "output_type": "stream",
     "text": [
      "The parameter that gave the best results is for L2 {'C': 10.0}\n",
      "The accuracy is 0.9168855405031794\n"
     ]
    }
   ],
   "source": [
    "# Ridge\n",
    "lgR = LogisticRegression(class_weight ='balanced', random_state=0, solver='liblinear', penalty = 'l2')\n",
    "\n",
    "lg_optR = GridSearchCV(lgR, hyperparameters, scoring='accuracy',cv=5)\n",
    "\n",
    "lg_optR.fit(XtrainLR,YtrainLR)\n",
    "\n",
    "print( \"The parameter that gave the best results is for L2\", lg_optR.best_params_)\n",
    "print(\"The accuracy is\" , lg_optR.score(XtestLR,YtestLR))\n",
    "Print (\"The parameter that gave the best results is for L2 {'C': 10.0} and The accuracy is 0.9168855405031794\")"
   ]
  },
  {
   "cell_type": "code",
   "execution_count": 30,
   "metadata": {},
   "outputs": [
    {
     "name": "stdout",
     "output_type": "stream",
     "text": [
      "Model Accuracy is: 0.8841235830799005\n",
      "Model Coeff: [ 5.47782699e+00 -9.15811898e-01  3.25490167e-01 -4.14141818e+00\n",
      "  6.25808891e-02 -3.43210854e-04 -1.05833659e-01  7.20044271e-04]\n"
     ]
    }
   ],
   "source": [
    "#The accuracy using Lasso is higher than the accuracy using Ridge (0.9169200995299972 > 0.9168855405031794) so we apply Lasso in our prediction model.\n",
    "#Initialize the Logitic regression model with l2 penalty\n",
    "##ridge\n",
    "THRESHOLD = 0.45\n",
    "LR = LogisticRegression(C=3.3333333333333335, penalty='l1', class_weight='balanced', random_state=0, solver='liblinear').fit(XtrainLR,YtrainLR)\n",
    "LR.fit(XtrainLR, YtrainLR)\n",
    "YpredLR = np.where(LR.predict_proba(XtestLR)[:,1] == THRESHOLD, 1, 0)\n",
    "\n",
    "#Evaluate our model\n",
    "model_acc = accuracy_score(YpredLR, YtestLR)\n",
    "print(\"Model Accuracy is: {}\".format(model_acc))\n",
    "\n",
    "print(\"Model Coeff: {}\".format(np.append(LR.intercept_, LR.coef_)))"
   ]
  },
  {
   "cell_type": "markdown",
   "metadata": {
    "colab_type": "text",
    "id": "Yn7--XRkrIK9"
   },
   "source": [
    " 3.  Discuss the test performance using precision, recall and confusion matrix. **(2 marks)**"
   ]
  },
  {
   "cell_type": "code",
   "execution_count": 31,
   "metadata": {
    "colab": {},
    "colab_type": "code",
    "id": "7GpmkeRLOOkM"
   },
   "outputs": [
    {
     "name": "stdout",
     "output_type": "stream",
     "text": [
      "\u001b[1m\u001b[4m\u001b[93mConfusion_matrix\u001b[0m\n",
      "[[25583     0]\n",
      " [ 3353     0]]\n",
      "\u001b[1m\u001b[4m\u001b[93mPrecision and recall report\u001b[0m\n",
      "(array([0.88412358, 0.        ]), array([1., 0.]), array([0.93849851, 0.        ]), array([25583,  3353], dtype=int64))\n"
     ]
    }
   ],
   "source": [
    "#Confusion Matrix\n",
    "from sklearn.metrics import confusion_matrix\n",
    "confusion_matrix = confusion_matrix(YtestLR, YpredLR)\n",
    "print(color.BOLD + color.UNDERLINE + color.YELLOW + 'Confusion_matrix' + color.END)\n",
    "print(confusion_matrix)\n",
    "#The result is telling us that we have 25583+0 correct predictions and 3353+0 incorrect predictions.\n",
    "\n",
    "#Compute precision, recall, F-measure\n",
    "from sklearn.metrics import precision_recall_fscore_support\n",
    "print(color.BOLD + color.UNDERLINE + color.YELLOW + 'Precision and recall report'+ color.END)\n",
    "print(precision_recall_fscore_support(YtestLR, YpredLR, zero_division = 0))"
   ]
  },
  {
   "cell_type": "markdown",
   "metadata": {
    "colab_type": "text",
    "id": "uJZCDkQcH_k6"
   },
   "source": [
    "##**Part 3: Objective function optimisation:**  **(6 marks)**"
   ]
  },
  {
   "cell_type": "markdown",
   "metadata": {
    "colab_type": "text",
    "id": "7DrSojxhXpwL"
   },
   "source": [
    "Let’s consider the line graphs shown below and answer the following questions [Hint: See weekly content 7.4-7.10],"
   ]
  },
  {
   "cell_type": "markdown",
   "metadata": {
    "colab_type": "text",
    "id": "_eGL6Jz_KJdH"
   },
   "source": [
    "<html>&nbsp;&nbsp;&nbsp;&nbsp;&nbsp;&nbsp;&nbsp;&nbsp;&nbsp;&nbsp;&nbsp;&nbsp;&nbsp;&nbsp;&nbsp;&nbsp;&nbsp;&nbsp;&nbsp;&nbsp;&nbsp;&nbsp;&nbsp;&nbsp;&nbsp;(a)&nbsp;&nbsp;&nbsp;&nbsp;&nbsp;&nbsp;&nbsp;&nbsp;&nbsp;&nbsp;&nbsp;&nbsp;&nbsp;&nbsp;&nbsp;&nbsp;&nbsp;&nbsp;&nbsp;&nbsp;&nbsp;&nbsp;&nbsp;&nbsp;&nbsp;&nbsp;&nbsp;&nbsp;&nbsp;&nbsp;&nbsp;&nbsp;&nbsp;&nbsp;&nbsp;&nbsp;&nbsp;&nbsp;&nbsp;&nbsp;&nbsp;&nbsp;&nbsp;&nbsp;&nbsp;&nbsp;&nbsp;&nbsp;&nbsp;&nbsp;&nbsp;&nbsp;&nbsp;&nbsp;&nbsp;&nbsp;&nbsp;&nbsp;&nbsp;&nbsp;(b)</html>\n",
    "\n",
    "![image.png](data:image/png;base64,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)\n",
    "\n",
    "\n"
   ]
  },
  {
   "cell_type": "markdown",
   "metadata": {
    "colab_type": "text",
    "id": "iBRBSZiqKzLh"
   },
   "source": [
    "\n",
    "a.  Which of the above figures represents the convex objective function and why? (**1 marks**)\n",
    "\n",
    "b.  Which hyper-parameter can help to reach the convergence point and the impact of value selection? (**2 marks**)\n",
    "\n",
    "c.  How can we find the global minima for the objective function shown in Figure-b? _[N.B. Conceptual description will be accepted.]_ (**3 marks**)"
   ]
  },
  {
   "cell_type": "markdown",
   "metadata": {},
   "source": [
    "#answers\n",
    "\n",
    "A. The figure (a) represents the convex objective function because the region above its graph is a convey set which means  given any two points, it contains the whole line segment that joins them.\n",
    "\n",
    "B. To set hyperparameters for strongly convex optimization, we need to know the strong convexity constant µ and the Lipschitz constant L.For convex optimzation, we can find the best setting of hyperparameters that makes the algorithm converge for any strongly convex, Lipschitz continuous function with that µ and L.\n",
    "\n",
    "C. There is no known algorithm that is guaranteed to find the global minimum of an arbitrary function. There are some ways to find global optimum solution in the non convex problems if it satisfies some conditions that the duality gap equals to zero for the dual problem such as time sharing condition."
   ]
  }
 ],
 "metadata": {
  "colab": {
   "collapsed_sections": [],
   "name": "A3.ipynb",
   "provenance": []
  },
  "kernelspec": {
   "display_name": "Python 3",
   "language": "python",
   "name": "python3"
  },
  "language_info": {
   "codemirror_mode": {
    "name": "ipython",
    "version": 3
   },
   "file_extension": ".py",
   "mimetype": "text/x-python",
   "name": "python",
   "nbconvert_exporter": "python",
   "pygments_lexer": "ipython3",
   "version": "3.8.3"
  }
 },
 "nbformat": 4,
 "nbformat_minor": 4
}
