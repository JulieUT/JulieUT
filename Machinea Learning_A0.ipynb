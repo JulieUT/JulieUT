{
 "cells": [
  {
   "cell_type": "markdown",
   "metadata": {
    "colab_type": "text",
    "id": "1cBt-DED-MC9"
   },
   "source": [
    "#**SIT 720 - Machine Learning**\n",
    "\n",
    "Lecturer: Chandan Karmakar | karmakar@deakin.edu.au\n",
    "\n",
    "School of Information Technology,\n",
    "<br/>Deakin University, VIC 3125, Australia."
   ]
  },
  {
   "cell_type": "markdown",
   "metadata": {
    "colab_type": "text",
    "id": "qSfW2iPaFFq5"
   },
   "source": [
    "#**Assessment Task 1 (20 marks)**\n",
    "\n",
    "##**Submission Instruction**\n",
    "1.  Student should insert Python code or text responses into the cell followed by the question.\n",
    "\n",
    "2.  For answers regarding discussion or explanation, **maximum five sentences are suggested**.\n",
    "\n",
    "3.  Rename this notebook file appending your student ID. For example, for student ID 1234, the submitted file name should be A0_1234.ipynb.\n",
    "\n",
    "4.  Insert your student ID and name in the following cell."
   ]
  },
  {
   "cell_type": "code",
   "execution_count": null,
   "metadata": {
    "colab": {},
    "colab_type": "code",
    "id": "45gFUaXcF8oG"
   },
   "outputs": [],
   "source": [
    "# Student ID: 218197069\n",
    "\n",
    "# Student name:THAO NGUYEN\n"
   ]
  },
  {
   "cell_type": "markdown",
   "metadata": {
    "colab_type": "text",
    "id": "JtEbRsB1_P_j"
   },
   "source": [
    "\n",
    "\n",
    "##**Background**\n",
    "Selection of housing is always difficult for someone seeking for a suitable one as it includes various factors and preferences. People prefer to buy a house considering many criteria like- population, quality of life, financial capability, as well as social and natural environments around the housing block. In this assignment you will be helping people choosing suitable housing for them according to their needs.\n",
    "##**Dataset**\n",
    "**Dataset file name:** housing_dataset.csv\n",
    "\n",
    "**Dataset description:** Dataset contains total 10 features (columns). It contains the location, housing age, population, number of families in a housing (block), number of rooms, average income of the families in that housing, ocean proximity and other informaiton. Each row indicates a record of a housing block containing the features mentioned earlier.\n",
    "\n",
    "**Features:** \n",
    "\n",
    "1.   latitude (float): Latitude of the location of a housing in conventional geospace\n",
    "2.   longitude (float): Longitude of the location of a housing in conventional geospace\n",
    "3.   housing_age (int): Age of the housing in year, the higher number indicates the older housing\n",
    "4.    total_rooms (int): Total number of rooms in a housing\n",
    "5.    total_bedrooms (int): Total number of bedrooms in a housing\n",
    "6.    population (int): Total population of a housing\n",
    "7.    families (int): Total number of families living in a housing\n",
    "8.    average_income (float): Average income of the member of a housing in a scale of Tousand Dollar Per Month\n",
    "9.    ocean_proximity (string): Describing how close the housing is to the ocean\n",
    "10.   house_value (int): Average individual house price of a housing in Dollers\n"
   ]
  },
  {
   "cell_type": "code",
   "execution_count": 1,
   "metadata": {},
   "outputs": [],
   "source": [
    "#Import Library\n",
    "import pandas as pd\n",
    "import numpy as np\n",
    "import matplotlib.pyplot as plt"
   ]
  },
  {
   "cell_type": "code",
   "execution_count": 2,
   "metadata": {
    "scrolled": false
   },
   "outputs": [
    {
     "data": {
      "text/plain": [
       "'C:\\\\Users\\\\Smart-PC'"
      ]
     },
     "execution_count": 2,
     "metadata": {},
     "output_type": "execute_result"
    }
   ],
   "source": [
    "pwd"
   ]
  },
  {
   "cell_type": "code",
   "execution_count": 58,
   "metadata": {
    "scrolled": false
   },
   "outputs": [
    {
     "data": {
      "text/html": [
       "<div>\n",
       "<style scoped>\n",
       "    .dataframe tbody tr th:only-of-type {\n",
       "        vertical-align: middle;\n",
       "    }\n",
       "\n",
       "    .dataframe tbody tr th {\n",
       "        vertical-align: top;\n",
       "    }\n",
       "\n",
       "    .dataframe thead th {\n",
       "        text-align: right;\n",
       "    }\n",
       "</style>\n",
       "<table border=\"1\" class=\"dataframe\">\n",
       "  <thead>\n",
       "    <tr style=\"text-align: right;\">\n",
       "      <th></th>\n",
       "      <th>longitude</th>\n",
       "      <th>latitude</th>\n",
       "      <th>housing_age</th>\n",
       "      <th>total_rooms</th>\n",
       "      <th>total_bedrooms</th>\n",
       "      <th>population</th>\n",
       "      <th>families</th>\n",
       "      <th>average_income</th>\n",
       "      <th>ocean_proximity</th>\n",
       "      <th>house_value</th>\n",
       "    </tr>\n",
       "  </thead>\n",
       "  <tbody>\n",
       "    <tr>\n",
       "      <th>0</th>\n",
       "      <td>-122.23</td>\n",
       "      <td>37.88</td>\n",
       "      <td>41</td>\n",
       "      <td>880</td>\n",
       "      <td>129.0</td>\n",
       "      <td>322</td>\n",
       "      <td>126</td>\n",
       "      <td>8.3252</td>\n",
       "      <td>NEAR BAY</td>\n",
       "      <td>452600</td>\n",
       "    </tr>\n",
       "    <tr>\n",
       "      <th>1</th>\n",
       "      <td>-122.22</td>\n",
       "      <td>37.86</td>\n",
       "      <td>21</td>\n",
       "      <td>7099</td>\n",
       "      <td>1106.0</td>\n",
       "      <td>2401</td>\n",
       "      <td>1138</td>\n",
       "      <td>8.3014</td>\n",
       "      <td>NEAR BAY</td>\n",
       "      <td>358500</td>\n",
       "    </tr>\n",
       "    <tr>\n",
       "      <th>2</th>\n",
       "      <td>-122.24</td>\n",
       "      <td>37.85</td>\n",
       "      <td>52</td>\n",
       "      <td>1467</td>\n",
       "      <td>190.0</td>\n",
       "      <td>496</td>\n",
       "      <td>177</td>\n",
       "      <td>7.2574</td>\n",
       "      <td>NEAR BAY</td>\n",
       "      <td>352100</td>\n",
       "    </tr>\n",
       "    <tr>\n",
       "      <th>3</th>\n",
       "      <td>-122.25</td>\n",
       "      <td>37.85</td>\n",
       "      <td>52</td>\n",
       "      <td>1274</td>\n",
       "      <td>235.0</td>\n",
       "      <td>558</td>\n",
       "      <td>219</td>\n",
       "      <td>5.6431</td>\n",
       "      <td>NEAR BAY</td>\n",
       "      <td>341300</td>\n",
       "    </tr>\n",
       "    <tr>\n",
       "      <th>4</th>\n",
       "      <td>-122.25</td>\n",
       "      <td>37.85</td>\n",
       "      <td>52</td>\n",
       "      <td>1627</td>\n",
       "      <td>280.0</td>\n",
       "      <td>565</td>\n",
       "      <td>259</td>\n",
       "      <td>3.8462</td>\n",
       "      <td>NEAR BAY</td>\n",
       "      <td>342200</td>\n",
       "    </tr>\n",
       "  </tbody>\n",
       "</table>\n",
       "</div>"
      ],
      "text/plain": [
       "   longitude  latitude  housing_age  total_rooms  total_bedrooms  population  \\\n",
       "0    -122.23     37.88           41          880           129.0         322   \n",
       "1    -122.22     37.86           21         7099          1106.0        2401   \n",
       "2    -122.24     37.85           52         1467           190.0         496   \n",
       "3    -122.25     37.85           52         1274           235.0         558   \n",
       "4    -122.25     37.85           52         1627           280.0         565   \n",
       "\n",
       "   families  average_income ocean_proximity  house_value  \n",
       "0       126          8.3252        NEAR BAY       452600  \n",
       "1      1138          8.3014        NEAR BAY       358500  \n",
       "2       177          7.2574        NEAR BAY       352100  \n",
       "3       219          5.6431        NEAR BAY       341300  \n",
       "4       259          3.8462        NEAR BAY       342200  "
      ]
     },
     "execution_count": 58,
     "metadata": {},
     "output_type": "execute_result"
    }
   ],
   "source": [
    "#Read CSV file: \"\\\\\" change to \"/\"\n",
    "df = pd.read_csv(\"housing_dataset.csv\")\n",
    "df.head()"
   ]
  },
  {
   "cell_type": "code",
   "execution_count": 62,
   "metadata": {},
   "outputs": [
    {
     "data": {
      "text/html": [
       "<div>\n",
       "<style scoped>\n",
       "    .dataframe tbody tr th:only-of-type {\n",
       "        vertical-align: middle;\n",
       "    }\n",
       "\n",
       "    .dataframe tbody tr th {\n",
       "        vertical-align: top;\n",
       "    }\n",
       "\n",
       "    .dataframe thead th {\n",
       "        text-align: right;\n",
       "    }\n",
       "</style>\n",
       "<table border=\"1\" class=\"dataframe\">\n",
       "  <thead>\n",
       "    <tr style=\"text-align: right;\">\n",
       "      <th></th>\n",
       "      <th>LONGITUDE</th>\n",
       "      <th>LATITUDE</th>\n",
       "      <th>HOUSING_AGE</th>\n",
       "      <th>TOTAL_ROOMS</th>\n",
       "      <th>TOTAL_BEDROOMS</th>\n",
       "      <th>POPULATION</th>\n",
       "      <th>FAMILIES</th>\n",
       "      <th>AVERAGE_INCOME</th>\n",
       "      <th>OCEAN_PROXIMITY</th>\n",
       "      <th>HOUSE_VALUE</th>\n",
       "    </tr>\n",
       "  </thead>\n",
       "  <tbody>\n",
       "    <tr>\n",
       "      <th>0</th>\n",
       "      <td>-122.23</td>\n",
       "      <td>37.88</td>\n",
       "      <td>41</td>\n",
       "      <td>880</td>\n",
       "      <td>129.0</td>\n",
       "      <td>322</td>\n",
       "      <td>126</td>\n",
       "      <td>8.3252</td>\n",
       "      <td>NEAR BAY</td>\n",
       "      <td>452600</td>\n",
       "    </tr>\n",
       "    <tr>\n",
       "      <th>1</th>\n",
       "      <td>-122.22</td>\n",
       "      <td>37.86</td>\n",
       "      <td>21</td>\n",
       "      <td>7099</td>\n",
       "      <td>1106.0</td>\n",
       "      <td>2401</td>\n",
       "      <td>1138</td>\n",
       "      <td>8.3014</td>\n",
       "      <td>NEAR BAY</td>\n",
       "      <td>358500</td>\n",
       "    </tr>\n",
       "    <tr>\n",
       "      <th>2</th>\n",
       "      <td>-122.24</td>\n",
       "      <td>37.85</td>\n",
       "      <td>52</td>\n",
       "      <td>1467</td>\n",
       "      <td>190.0</td>\n",
       "      <td>496</td>\n",
       "      <td>177</td>\n",
       "      <td>7.2574</td>\n",
       "      <td>NEAR BAY</td>\n",
       "      <td>352100</td>\n",
       "    </tr>\n",
       "    <tr>\n",
       "      <th>3</th>\n",
       "      <td>-122.25</td>\n",
       "      <td>37.85</td>\n",
       "      <td>52</td>\n",
       "      <td>1274</td>\n",
       "      <td>235.0</td>\n",
       "      <td>558</td>\n",
       "      <td>219</td>\n",
       "      <td>5.6431</td>\n",
       "      <td>NEAR BAY</td>\n",
       "      <td>341300</td>\n",
       "    </tr>\n",
       "    <tr>\n",
       "      <th>4</th>\n",
       "      <td>-122.25</td>\n",
       "      <td>37.85</td>\n",
       "      <td>52</td>\n",
       "      <td>1627</td>\n",
       "      <td>280.0</td>\n",
       "      <td>565</td>\n",
       "      <td>259</td>\n",
       "      <td>3.8462</td>\n",
       "      <td>NEAR BAY</td>\n",
       "      <td>342200</td>\n",
       "    </tr>\n",
       "  </tbody>\n",
       "</table>\n",
       "</div>"
      ],
      "text/plain": [
       "   LONGITUDE  LATITUDE  HOUSING_AGE  TOTAL_ROOMS  TOTAL_BEDROOMS  POPULATION  \\\n",
       "0    -122.23     37.88           41          880           129.0         322   \n",
       "1    -122.22     37.86           21         7099          1106.0        2401   \n",
       "2    -122.24     37.85           52         1467           190.0         496   \n",
       "3    -122.25     37.85           52         1274           235.0         558   \n",
       "4    -122.25     37.85           52         1627           280.0         565   \n",
       "\n",
       "   FAMILIES  AVERAGE_INCOME OCEAN_PROXIMITY  HOUSE_VALUE  \n",
       "0       126          8.3252        NEAR BAY       452600  \n",
       "1      1138          8.3014        NEAR BAY       358500  \n",
       "2       177          7.2574        NEAR BAY       352100  \n",
       "3       219          5.6431        NEAR BAY       341300  \n",
       "4       259          3.8462        NEAR BAY       342200  "
      ]
     },
     "execution_count": 62,
     "metadata": {},
     "output_type": "execute_result"
    }
   ],
   "source": [
    "#Data exploration\n",
    "df.columns = df.columns.str.upper()\n",
    "df.columns\n",
    "df.head()"
   ]
  },
  {
   "cell_type": "code",
   "execution_count": 63,
   "metadata": {},
   "outputs": [
    {
     "data": {
      "text/plain": [
       "LONGITUDE            0\n",
       "LATITUDE             0\n",
       "HOUSING_AGE          0\n",
       "TOTAL_ROOMS          0\n",
       "TOTAL_BEDROOMS     207\n",
       "POPULATION           0\n",
       "FAMILIES             0\n",
       "AVERAGE_INCOME       0\n",
       "OCEAN_PROXIMITY      0\n",
       "HOUSE_VALUE          0\n",
       "dtype: int64"
      ]
     },
     "execution_count": 63,
     "metadata": {},
     "output_type": "execute_result"
    }
   ],
   "source": [
    "#Missing data in Total_bedrooms\n",
    "df.isnull().any()\n",
    "\n",
    "#Total number of missing values : 207\n",
    "df.isnull().sum()"
   ]
  },
  {
   "cell_type": "code",
   "execution_count": 64,
   "metadata": {},
   "outputs": [
    {
     "data": {
      "text/plain": [
       "0         129.0\n",
       "1        1106.0\n",
       "2         190.0\n",
       "3         235.0\n",
       "4         280.0\n",
       "          ...  \n",
       "20635     374.0\n",
       "20636     150.0\n",
       "20637     485.0\n",
       "20638     409.0\n",
       "20639     616.0\n",
       "Name: TOTAL_BEDROOMS, Length: 20640, dtype: float64"
      ]
     },
     "execution_count": 64,
     "metadata": {},
     "output_type": "execute_result"
    }
   ],
   "source": [
    "#Filling the missing data with mean value\n",
    "df_with_mean = df.TOTAL_BEDROOMS.fillna(df['TOTAL_BEDROOMS'].mean())\n",
    "df_with_mean "
   ]
  },
  {
   "cell_type": "markdown",
   "metadata": {
    "colab_type": "text",
    "id": "rQs2cqHo_7wC"
   },
   "source": [
    "\n",
    "\n",
    "##**Part-1: Basic Calculations:**  *(8 marks: 8 questions x 1 marks each)*\n",
    "\n",
    "\n",
    "1.   Find the distances of the farthest and nearest housing blocks from the house block described in the first row of the dataset."
   ]
  },
  {
   "cell_type": "code",
   "execution_count": 98,
   "metadata": {
    "scrolled": true
   },
   "outputs": [
    {
     "data": {
      "text/html": [
       "<div>\n",
       "<style scoped>\n",
       "    .dataframe tbody tr th:only-of-type {\n",
       "        vertical-align: middle;\n",
       "    }\n",
       "\n",
       "    .dataframe tbody tr th {\n",
       "        vertical-align: top;\n",
       "    }\n",
       "\n",
       "    .dataframe thead th {\n",
       "        text-align: right;\n",
       "    }\n",
       "</style>\n",
       "<table border=\"1\" class=\"dataframe\">\n",
       "  <thead>\n",
       "    <tr style=\"text-align: right;\">\n",
       "      <th></th>\n",
       "      <th>LONGITUDE</th>\n",
       "      <th>LATITUDE</th>\n",
       "      <th>HOUSING_AGE</th>\n",
       "      <th>TOTAL_ROOMS</th>\n",
       "      <th>TOTAL_BEDROOMS</th>\n",
       "      <th>POPULATION</th>\n",
       "      <th>FAMILIES</th>\n",
       "      <th>AVERAGE_INCOME</th>\n",
       "      <th>OCEAN_PROXIMITY</th>\n",
       "      <th>HOUSE_VALUE</th>\n",
       "      <th>Population density per family</th>\n",
       "      <th>cheapest_price_per_room</th>\n",
       "      <th>Euclidean</th>\n",
       "    </tr>\n",
       "  </thead>\n",
       "  <tbody>\n",
       "    <tr>\n",
       "      <th>0</th>\n",
       "      <td>-122.23</td>\n",
       "      <td>37.88</td>\n",
       "      <td>41</td>\n",
       "      <td>880</td>\n",
       "      <td>129.0</td>\n",
       "      <td>322</td>\n",
       "      <td>126</td>\n",
       "      <td>8.3252</td>\n",
       "      <td>NEAR BAY</td>\n",
       "      <td>452600</td>\n",
       "      <td>2.555556</td>\n",
       "      <td>514.32</td>\n",
       "      <td>0.000000</td>\n",
       "    </tr>\n",
       "    <tr>\n",
       "      <th>1</th>\n",
       "      <td>-122.22</td>\n",
       "      <td>37.86</td>\n",
       "      <td>21</td>\n",
       "      <td>7099</td>\n",
       "      <td>1106.0</td>\n",
       "      <td>2401</td>\n",
       "      <td>1138</td>\n",
       "      <td>8.3014</td>\n",
       "      <td>NEAR BAY</td>\n",
       "      <td>358500</td>\n",
       "      <td>2.109842</td>\n",
       "      <td>50.50</td>\n",
       "      <td>0.022361</td>\n",
       "    </tr>\n",
       "    <tr>\n",
       "      <th>2</th>\n",
       "      <td>-122.24</td>\n",
       "      <td>37.85</td>\n",
       "      <td>52</td>\n",
       "      <td>1467</td>\n",
       "      <td>190.0</td>\n",
       "      <td>496</td>\n",
       "      <td>177</td>\n",
       "      <td>7.2574</td>\n",
       "      <td>NEAR BAY</td>\n",
       "      <td>352100</td>\n",
       "      <td>2.802260</td>\n",
       "      <td>240.01</td>\n",
       "      <td>0.031623</td>\n",
       "    </tr>\n",
       "    <tr>\n",
       "      <th>3</th>\n",
       "      <td>-122.25</td>\n",
       "      <td>37.85</td>\n",
       "      <td>52</td>\n",
       "      <td>1274</td>\n",
       "      <td>235.0</td>\n",
       "      <td>558</td>\n",
       "      <td>219</td>\n",
       "      <td>5.6431</td>\n",
       "      <td>NEAR BAY</td>\n",
       "      <td>341300</td>\n",
       "      <td>2.547945</td>\n",
       "      <td>267.90</td>\n",
       "      <td>0.036056</td>\n",
       "    </tr>\n",
       "    <tr>\n",
       "      <th>4</th>\n",
       "      <td>-122.25</td>\n",
       "      <td>37.85</td>\n",
       "      <td>52</td>\n",
       "      <td>1627</td>\n",
       "      <td>280.0</td>\n",
       "      <td>565</td>\n",
       "      <td>259</td>\n",
       "      <td>3.8462</td>\n",
       "      <td>NEAR BAY</td>\n",
       "      <td>342200</td>\n",
       "      <td>2.181467</td>\n",
       "      <td>210.33</td>\n",
       "      <td>0.036056</td>\n",
       "    </tr>\n",
       "    <tr>\n",
       "      <th>5</th>\n",
       "      <td>-122.25</td>\n",
       "      <td>37.85</td>\n",
       "      <td>52</td>\n",
       "      <td>919</td>\n",
       "      <td>213.0</td>\n",
       "      <td>413</td>\n",
       "      <td>193</td>\n",
       "      <td>4.0368</td>\n",
       "      <td>NEAR BAY</td>\n",
       "      <td>269700</td>\n",
       "      <td>2.139896</td>\n",
       "      <td>293.47</td>\n",
       "      <td>0.036056</td>\n",
       "    </tr>\n",
       "    <tr>\n",
       "      <th>6</th>\n",
       "      <td>-122.25</td>\n",
       "      <td>37.84</td>\n",
       "      <td>52</td>\n",
       "      <td>2535</td>\n",
       "      <td>489.0</td>\n",
       "      <td>1094</td>\n",
       "      <td>514</td>\n",
       "      <td>3.6591</td>\n",
       "      <td>NEAR BAY</td>\n",
       "      <td>299200</td>\n",
       "      <td>2.128405</td>\n",
       "      <td>118.03</td>\n",
       "      <td>0.044721</td>\n",
       "    </tr>\n",
       "    <tr>\n",
       "      <th>7</th>\n",
       "      <td>-122.25</td>\n",
       "      <td>37.84</td>\n",
       "      <td>52</td>\n",
       "      <td>3104</td>\n",
       "      <td>687.0</td>\n",
       "      <td>1157</td>\n",
       "      <td>647</td>\n",
       "      <td>3.1200</td>\n",
       "      <td>NEAR BAY</td>\n",
       "      <td>241400</td>\n",
       "      <td>1.788253</td>\n",
       "      <td>77.77</td>\n",
       "      <td>0.044721</td>\n",
       "    </tr>\n",
       "    <tr>\n",
       "      <th>8</th>\n",
       "      <td>-122.26</td>\n",
       "      <td>37.84</td>\n",
       "      <td>42</td>\n",
       "      <td>2555</td>\n",
       "      <td>665.0</td>\n",
       "      <td>1206</td>\n",
       "      <td>595</td>\n",
       "      <td>2.0804</td>\n",
       "      <td>NEAR BAY</td>\n",
       "      <td>226700</td>\n",
       "      <td>2.026891</td>\n",
       "      <td>88.73</td>\n",
       "      <td>0.050000</td>\n",
       "    </tr>\n",
       "    <tr>\n",
       "      <th>9</th>\n",
       "      <td>-122.25</td>\n",
       "      <td>37.84</td>\n",
       "      <td>52</td>\n",
       "      <td>3549</td>\n",
       "      <td>707.0</td>\n",
       "      <td>1551</td>\n",
       "      <td>714</td>\n",
       "      <td>3.6912</td>\n",
       "      <td>NEAR BAY</td>\n",
       "      <td>261100</td>\n",
       "      <td>2.172269</td>\n",
       "      <td>73.57</td>\n",
       "      <td>0.044721</td>\n",
       "    </tr>\n",
       "  </tbody>\n",
       "</table>\n",
       "</div>"
      ],
      "text/plain": [
       "   LONGITUDE  LATITUDE  HOUSING_AGE  TOTAL_ROOMS  TOTAL_BEDROOMS  POPULATION  \\\n",
       "0    -122.23     37.88           41          880           129.0         322   \n",
       "1    -122.22     37.86           21         7099          1106.0        2401   \n",
       "2    -122.24     37.85           52         1467           190.0         496   \n",
       "3    -122.25     37.85           52         1274           235.0         558   \n",
       "4    -122.25     37.85           52         1627           280.0         565   \n",
       "5    -122.25     37.85           52          919           213.0         413   \n",
       "6    -122.25     37.84           52         2535           489.0        1094   \n",
       "7    -122.25     37.84           52         3104           687.0        1157   \n",
       "8    -122.26     37.84           42         2555           665.0        1206   \n",
       "9    -122.25     37.84           52         3549           707.0        1551   \n",
       "\n",
       "   FAMILIES  AVERAGE_INCOME OCEAN_PROXIMITY  HOUSE_VALUE  \\\n",
       "0       126          8.3252        NEAR BAY       452600   \n",
       "1      1138          8.3014        NEAR BAY       358500   \n",
       "2       177          7.2574        NEAR BAY       352100   \n",
       "3       219          5.6431        NEAR BAY       341300   \n",
       "4       259          3.8462        NEAR BAY       342200   \n",
       "5       193          4.0368        NEAR BAY       269700   \n",
       "6       514          3.6591        NEAR BAY       299200   \n",
       "7       647          3.1200        NEAR BAY       241400   \n",
       "8       595          2.0804        NEAR BAY       226700   \n",
       "9       714          3.6912        NEAR BAY       261100   \n",
       "\n",
       "   Population density per family  cheapest_price_per_room  Euclidean  \n",
       "0                       2.555556                   514.32   0.000000  \n",
       "1                       2.109842                    50.50   0.022361  \n",
       "2                       2.802260                   240.01   0.031623  \n",
       "3                       2.547945                   267.90   0.036056  \n",
       "4                       2.181467                   210.33   0.036056  \n",
       "5                       2.139896                   293.47   0.036056  \n",
       "6                       2.128405                   118.03   0.044721  \n",
       "7                       1.788253                    77.77   0.044721  \n",
       "8                       2.026891                    88.73   0.050000  \n",
       "9                       2.172269                    73.57   0.044721  "
      ]
     },
     "execution_count": 98,
     "metadata": {},
     "output_type": "execute_result"
    }
   ],
   "source": [
    "import scipy.spatial.distance as dist\n",
    "for i in range(len(df)):\n",
    "    df.loc[i,'Euclidean'] = dist.euclidean(df.iloc[0,0:2],df.iloc[i,0:2])\n",
    "df.head(10)"
   ]
  },
  {
   "cell_type": "code",
   "execution_count": 96,
   "metadata": {},
   "outputs": [
    {
     "data": {
      "text/html": [
       "<div>\n",
       "<style scoped>\n",
       "    .dataframe tbody tr th:only-of-type {\n",
       "        vertical-align: middle;\n",
       "    }\n",
       "\n",
       "    .dataframe tbody tr th {\n",
       "        vertical-align: top;\n",
       "    }\n",
       "\n",
       "    .dataframe thead th {\n",
       "        text-align: right;\n",
       "    }\n",
       "</style>\n",
       "<table border=\"1\" class=\"dataframe\">\n",
       "  <thead>\n",
       "    <tr style=\"text-align: right;\">\n",
       "      <th></th>\n",
       "      <th>LONGITUDE</th>\n",
       "      <th>LATITUDE</th>\n",
       "      <th>HOUSING_AGE</th>\n",
       "      <th>TOTAL_ROOMS</th>\n",
       "      <th>TOTAL_BEDROOMS</th>\n",
       "      <th>POPULATION</th>\n",
       "      <th>FAMILIES</th>\n",
       "      <th>AVERAGE_INCOME</th>\n",
       "      <th>OCEAN_PROXIMITY</th>\n",
       "      <th>HOUSE_VALUE</th>\n",
       "      <th>Population density per family</th>\n",
       "      <th>cheapest_price_per_room</th>\n",
       "      <th>Euclidean</th>\n",
       "    </tr>\n",
       "  </thead>\n",
       "  <tbody>\n",
       "    <tr>\n",
       "      <th>1633</th>\n",
       "      <td>-122.22</td>\n",
       "      <td>37.88</td>\n",
       "      <td>20</td>\n",
       "      <td>95</td>\n",
       "      <td>13.0</td>\n",
       "      <td>31</td>\n",
       "      <td>15</td>\n",
       "      <td>2.4444</td>\n",
       "      <td>NEAR BAY</td>\n",
       "      <td>475000</td>\n",
       "      <td>2.066667</td>\n",
       "      <td>5000.0</td>\n",
       "      <td>0.01</td>\n",
       "    </tr>\n",
       "  </tbody>\n",
       "</table>\n",
       "</div>"
      ],
      "text/plain": [
       "      LONGITUDE  LATITUDE  HOUSING_AGE  TOTAL_ROOMS  TOTAL_BEDROOMS  \\\n",
       "1633    -122.22     37.88           20           95            13.0   \n",
       "\n",
       "      POPULATION  FAMILIES  AVERAGE_INCOME OCEAN_PROXIMITY  HOUSE_VALUE  \\\n",
       "1633          31        15          2.4444        NEAR BAY       475000   \n",
       "\n",
       "      Population density per family  cheapest_price_per_room  Euclidean  \n",
       "1633                       2.066667                   5000.0       0.01  "
      ]
     },
     "execution_count": 96,
     "metadata": {},
     "output_type": "execute_result"
    }
   ],
   "source": [
    "df.loc[df['Euclidean']==df.loc[2:,'Euclidean'].min()]"
   ]
  },
  {
   "cell_type": "code",
   "execution_count": 97,
   "metadata": {},
   "outputs": [
    {
     "data": {
      "text/html": [
       "<div>\n",
       "<style scoped>\n",
       "    .dataframe tbody tr th:only-of-type {\n",
       "        vertical-align: middle;\n",
       "    }\n",
       "\n",
       "    .dataframe tbody tr th {\n",
       "        vertical-align: top;\n",
       "    }\n",
       "\n",
       "    .dataframe thead th {\n",
       "        text-align: right;\n",
       "    }\n",
       "</style>\n",
       "<table border=\"1\" class=\"dataframe\">\n",
       "  <thead>\n",
       "    <tr style=\"text-align: right;\">\n",
       "      <th></th>\n",
       "      <th>LONGITUDE</th>\n",
       "      <th>LATITUDE</th>\n",
       "      <th>HOUSING_AGE</th>\n",
       "      <th>TOTAL_ROOMS</th>\n",
       "      <th>TOTAL_BEDROOMS</th>\n",
       "      <th>POPULATION</th>\n",
       "      <th>FAMILIES</th>\n",
       "      <th>AVERAGE_INCOME</th>\n",
       "      <th>OCEAN_PROXIMITY</th>\n",
       "      <th>HOUSE_VALUE</th>\n",
       "      <th>Population density per family</th>\n",
       "      <th>cheapest_price_per_room</th>\n",
       "      <th>Euclidean</th>\n",
       "    </tr>\n",
       "  </thead>\n",
       "  <tbody>\n",
       "    <tr>\n",
       "      <th>2780</th>\n",
       "      <td>-114.55</td>\n",
       "      <td>32.8</td>\n",
       "      <td>19</td>\n",
       "      <td>2570</td>\n",
       "      <td>820.0</td>\n",
       "      <td>1431</td>\n",
       "      <td>608</td>\n",
       "      <td>1.275</td>\n",
       "      <td>INLAND</td>\n",
       "      <td>56100</td>\n",
       "      <td>2.353618</td>\n",
       "      <td>21.83</td>\n",
       "      <td>9.208083</td>\n",
       "    </tr>\n",
       "  </tbody>\n",
       "</table>\n",
       "</div>"
      ],
      "text/plain": [
       "      LONGITUDE  LATITUDE  HOUSING_AGE  TOTAL_ROOMS  TOTAL_BEDROOMS  \\\n",
       "2780    -114.55      32.8           19         2570           820.0   \n",
       "\n",
       "      POPULATION  FAMILIES  AVERAGE_INCOME OCEAN_PROXIMITY  HOUSE_VALUE  \\\n",
       "2780        1431       608           1.275          INLAND        56100   \n",
       "\n",
       "      Population density per family  cheapest_price_per_room  Euclidean  \n",
       "2780                       2.353618                    21.83   9.208083  "
      ]
     },
     "execution_count": 97,
     "metadata": {},
     "output_type": "execute_result"
    }
   ],
   "source": [
    "df.loc[df['Euclidean']==df.loc[2:,'Euclidean'].max()]"
   ]
  },
  {
   "cell_type": "markdown",
   "metadata": {
    "colab_type": "text",
    "id": "CGNHL-MAACPJ"
   },
   "source": [
    "2.   Calculate the average age of the house blocks near the ocean."
   ]
  },
  {
   "cell_type": "code",
   "execution_count": 75,
   "metadata": {
    "colab": {},
    "colab_type": "code",
    "id": "-PmJE7wPAHeQ"
   },
   "outputs": [
    {
     "name": "stdout",
     "output_type": "stream",
     "text": [
      "The average age of the house blocks near the ocean is 29.347253574115875\n"
     ]
    }
   ],
   "source": [
    "Average = df.groupby('OCEAN_PROXIMITY')['HOUSING_AGE'].mean()\n",
    "print('The average age of the house blocks near the ocean is', Average['NEAR OCEAN'])"
   ]
  },
  {
   "cell_type": "markdown",
   "metadata": {
    "colab_type": "text",
    "id": "7xx5_8BlASae"
   },
   "source": [
    "3.   Find the income of the housing block with the most and least population density (per family)."
   ]
  },
  {
   "cell_type": "code",
   "execution_count": 68,
   "metadata": {
    "colab": {},
    "colab_type": "code",
    "id": "mC3E-Fq6AYTm"
   },
   "outputs": [
    {
     "name": "stdout",
     "output_type": "stream",
     "text": [
      "The most population density per family is 1243.33 and the income of the housing block is 10.23\n",
      "The least population density per family is 0.69 and the income of the housing block is 2.59\n"
     ]
    }
   ],
   "source": [
    "# Population density per family = dfnew\n",
    "dfnew =df['POPULATION']/df['FAMILIES']\n",
    "dfnew\n",
    "df['Population density per family']=dfnew\n",
    "\n",
    "# The most \n",
    "dfnew_max = max(dfnew)\n",
    "Income_max =df.loc[df['Population density per family'] == dfnew_max, 'AVERAGE_INCOME'].item()\n",
    "\n",
    "print('The most population density per family is',round(dfnew_max,2), \"and the income of the housing block is\", round(Income_max,2))\n",
    "\n",
    "\n",
    "# The least\n",
    "dfnew_min = min(dfnew)\n",
    "Income_min =df.loc[df['Population density per family'] == dfnew_min, 'AVERAGE_INCOME'].item()\n",
    "\n",
    "print('The least population density per family is',round(dfnew_min,2), \"and the income of the housing block is\", round(Income_min,2))"
   ]
  },
  {
   "cell_type": "markdown",
   "metadata": {
    "colab_type": "text",
    "id": "fvMmRTzpAd5J"
   },
   "source": [
    "4.   Calculate the price difference between the latest and oldest housing block from the dataset."
   ]
  },
  {
   "cell_type": "code",
   "execution_count": 69,
   "metadata": {
    "colab": {},
    "colab_type": "code",
    "id": "4rKQUPpyAfWQ"
   },
   "outputs": [
    {
     "name": "stdout",
     "output_type": "stream",
     "text": [
      "The price of the oldest housing block is $ 275420.87\n",
      "The price of the latest housing block is $ 144300.0\n",
      "The price difference between the latest and oldest housing block from the dataset is $ -131120.87\n"
     ]
    }
   ],
   "source": [
    "#The oldest\n",
    "price_oldest =df.loc[df['HOUSING_AGE'] == df['HOUSING_AGE'].max(),'HOUSE_VALUE'].mean()\n",
    "print('The price of the oldest housing block is $', round(price_oldest,2))\n",
    "\n",
    "#The latest\n",
    "price_latest =df.loc[df['HOUSING_AGE']== df['HOUSING_AGE'].min(), 'HOUSE_VALUE'].mean()\n",
    "print('The price of the latest housing block is $', round(price_latest,2))\n",
    "\n",
    "#The price difference\n",
    "print('The price difference between the latest and oldest housing block from the dataset is $', round(price_latest - price_oldest,2))"
   ]
  },
  {
   "cell_type": "markdown",
   "metadata": {
    "colab_type": "text",
    "id": "pZl4zZM9Akg-"
   },
   "source": [
    "5.   Calculate the cheapest price per room from the dataset."
   ]
  },
  {
   "cell_type": "code",
   "execution_count": 99,
   "metadata": {
    "colab": {},
    "colab_type": "code",
    "id": "NgSh7WpaAlb1"
   },
   "outputs": [
    {
     "data": {
      "text/html": [
       "<div>\n",
       "<style scoped>\n",
       "    .dataframe tbody tr th:only-of-type {\n",
       "        vertical-align: middle;\n",
       "    }\n",
       "\n",
       "    .dataframe tbody tr th {\n",
       "        vertical-align: top;\n",
       "    }\n",
       "\n",
       "    .dataframe thead th {\n",
       "        text-align: right;\n",
       "    }\n",
       "</style>\n",
       "<table border=\"1\" class=\"dataframe\">\n",
       "  <thead>\n",
       "    <tr style=\"text-align: right;\">\n",
       "      <th></th>\n",
       "      <th>LONGITUDE</th>\n",
       "      <th>LATITUDE</th>\n",
       "      <th>HOUSING_AGE</th>\n",
       "      <th>TOTAL_ROOMS</th>\n",
       "      <th>TOTAL_BEDROOMS</th>\n",
       "      <th>POPULATION</th>\n",
       "      <th>FAMILIES</th>\n",
       "      <th>AVERAGE_INCOME</th>\n",
       "      <th>OCEAN_PROXIMITY</th>\n",
       "      <th>HOUSE_VALUE</th>\n",
       "      <th>Population density per family</th>\n",
       "      <th>cheapest_price_per_room</th>\n",
       "      <th>Euclidean</th>\n",
       "    </tr>\n",
       "  </thead>\n",
       "  <tbody>\n",
       "    <tr>\n",
       "      <th>0</th>\n",
       "      <td>-122.23</td>\n",
       "      <td>37.88</td>\n",
       "      <td>41</td>\n",
       "      <td>880</td>\n",
       "      <td>129.0</td>\n",
       "      <td>322</td>\n",
       "      <td>126</td>\n",
       "      <td>8.3252</td>\n",
       "      <td>NEAR BAY</td>\n",
       "      <td>452600</td>\n",
       "      <td>2.555556</td>\n",
       "      <td>514.32</td>\n",
       "      <td>0.000000</td>\n",
       "    </tr>\n",
       "    <tr>\n",
       "      <th>1</th>\n",
       "      <td>-122.22</td>\n",
       "      <td>37.86</td>\n",
       "      <td>21</td>\n",
       "      <td>7099</td>\n",
       "      <td>1106.0</td>\n",
       "      <td>2401</td>\n",
       "      <td>1138</td>\n",
       "      <td>8.3014</td>\n",
       "      <td>NEAR BAY</td>\n",
       "      <td>358500</td>\n",
       "      <td>2.109842</td>\n",
       "      <td>50.50</td>\n",
       "      <td>0.022361</td>\n",
       "    </tr>\n",
       "    <tr>\n",
       "      <th>2</th>\n",
       "      <td>-122.24</td>\n",
       "      <td>37.85</td>\n",
       "      <td>52</td>\n",
       "      <td>1467</td>\n",
       "      <td>190.0</td>\n",
       "      <td>496</td>\n",
       "      <td>177</td>\n",
       "      <td>7.2574</td>\n",
       "      <td>NEAR BAY</td>\n",
       "      <td>352100</td>\n",
       "      <td>2.802260</td>\n",
       "      <td>240.01</td>\n",
       "      <td>0.031623</td>\n",
       "    </tr>\n",
       "    <tr>\n",
       "      <th>3</th>\n",
       "      <td>-122.25</td>\n",
       "      <td>37.85</td>\n",
       "      <td>52</td>\n",
       "      <td>1274</td>\n",
       "      <td>235.0</td>\n",
       "      <td>558</td>\n",
       "      <td>219</td>\n",
       "      <td>5.6431</td>\n",
       "      <td>NEAR BAY</td>\n",
       "      <td>341300</td>\n",
       "      <td>2.547945</td>\n",
       "      <td>267.90</td>\n",
       "      <td>0.036056</td>\n",
       "    </tr>\n",
       "    <tr>\n",
       "      <th>4</th>\n",
       "      <td>-122.25</td>\n",
       "      <td>37.85</td>\n",
       "      <td>52</td>\n",
       "      <td>1627</td>\n",
       "      <td>280.0</td>\n",
       "      <td>565</td>\n",
       "      <td>259</td>\n",
       "      <td>3.8462</td>\n",
       "      <td>NEAR BAY</td>\n",
       "      <td>342200</td>\n",
       "      <td>2.181467</td>\n",
       "      <td>210.33</td>\n",
       "      <td>0.036056</td>\n",
       "    </tr>\n",
       "    <tr>\n",
       "      <th>5</th>\n",
       "      <td>-122.25</td>\n",
       "      <td>37.85</td>\n",
       "      <td>52</td>\n",
       "      <td>919</td>\n",
       "      <td>213.0</td>\n",
       "      <td>413</td>\n",
       "      <td>193</td>\n",
       "      <td>4.0368</td>\n",
       "      <td>NEAR BAY</td>\n",
       "      <td>269700</td>\n",
       "      <td>2.139896</td>\n",
       "      <td>293.47</td>\n",
       "      <td>0.036056</td>\n",
       "    </tr>\n",
       "    <tr>\n",
       "      <th>6</th>\n",
       "      <td>-122.25</td>\n",
       "      <td>37.84</td>\n",
       "      <td>52</td>\n",
       "      <td>2535</td>\n",
       "      <td>489.0</td>\n",
       "      <td>1094</td>\n",
       "      <td>514</td>\n",
       "      <td>3.6591</td>\n",
       "      <td>NEAR BAY</td>\n",
       "      <td>299200</td>\n",
       "      <td>2.128405</td>\n",
       "      <td>118.03</td>\n",
       "      <td>0.044721</td>\n",
       "    </tr>\n",
       "    <tr>\n",
       "      <th>7</th>\n",
       "      <td>-122.25</td>\n",
       "      <td>37.84</td>\n",
       "      <td>52</td>\n",
       "      <td>3104</td>\n",
       "      <td>687.0</td>\n",
       "      <td>1157</td>\n",
       "      <td>647</td>\n",
       "      <td>3.1200</td>\n",
       "      <td>NEAR BAY</td>\n",
       "      <td>241400</td>\n",
       "      <td>1.788253</td>\n",
       "      <td>77.77</td>\n",
       "      <td>0.044721</td>\n",
       "    </tr>\n",
       "    <tr>\n",
       "      <th>8</th>\n",
       "      <td>-122.26</td>\n",
       "      <td>37.84</td>\n",
       "      <td>42</td>\n",
       "      <td>2555</td>\n",
       "      <td>665.0</td>\n",
       "      <td>1206</td>\n",
       "      <td>595</td>\n",
       "      <td>2.0804</td>\n",
       "      <td>NEAR BAY</td>\n",
       "      <td>226700</td>\n",
       "      <td>2.026891</td>\n",
       "      <td>88.73</td>\n",
       "      <td>0.050000</td>\n",
       "    </tr>\n",
       "    <tr>\n",
       "      <th>9</th>\n",
       "      <td>-122.25</td>\n",
       "      <td>37.84</td>\n",
       "      <td>52</td>\n",
       "      <td>3549</td>\n",
       "      <td>707.0</td>\n",
       "      <td>1551</td>\n",
       "      <td>714</td>\n",
       "      <td>3.6912</td>\n",
       "      <td>NEAR BAY</td>\n",
       "      <td>261100</td>\n",
       "      <td>2.172269</td>\n",
       "      <td>73.57</td>\n",
       "      <td>0.044721</td>\n",
       "    </tr>\n",
       "  </tbody>\n",
       "</table>\n",
       "</div>"
      ],
      "text/plain": [
       "   LONGITUDE  LATITUDE  HOUSING_AGE  TOTAL_ROOMS  TOTAL_BEDROOMS  POPULATION  \\\n",
       "0    -122.23     37.88           41          880           129.0         322   \n",
       "1    -122.22     37.86           21         7099          1106.0        2401   \n",
       "2    -122.24     37.85           52         1467           190.0         496   \n",
       "3    -122.25     37.85           52         1274           235.0         558   \n",
       "4    -122.25     37.85           52         1627           280.0         565   \n",
       "5    -122.25     37.85           52          919           213.0         413   \n",
       "6    -122.25     37.84           52         2535           489.0        1094   \n",
       "7    -122.25     37.84           52         3104           687.0        1157   \n",
       "8    -122.26     37.84           42         2555           665.0        1206   \n",
       "9    -122.25     37.84           52         3549           707.0        1551   \n",
       "\n",
       "   FAMILIES  AVERAGE_INCOME OCEAN_PROXIMITY  HOUSE_VALUE  \\\n",
       "0       126          8.3252        NEAR BAY       452600   \n",
       "1      1138          8.3014        NEAR BAY       358500   \n",
       "2       177          7.2574        NEAR BAY       352100   \n",
       "3       219          5.6431        NEAR BAY       341300   \n",
       "4       259          3.8462        NEAR BAY       342200   \n",
       "5       193          4.0368        NEAR BAY       269700   \n",
       "6       514          3.6591        NEAR BAY       299200   \n",
       "7       647          3.1200        NEAR BAY       241400   \n",
       "8       595          2.0804        NEAR BAY       226700   \n",
       "9       714          3.6912        NEAR BAY       261100   \n",
       "\n",
       "   Population density per family  cheapest_price_per_room  Euclidean  \n",
       "0                       2.555556                   514.32   0.000000  \n",
       "1                       2.109842                    50.50   0.022361  \n",
       "2                       2.802260                   240.01   0.031623  \n",
       "3                       2.547945                   267.90   0.036056  \n",
       "4                       2.181467                   210.33   0.036056  \n",
       "5                       2.139896                   293.47   0.036056  \n",
       "6                       2.128405                   118.03   0.044721  \n",
       "7                       1.788253                    77.77   0.044721  \n",
       "8                       2.026891                    88.73   0.050000  \n",
       "9                       2.172269                    73.57   0.044721  "
      ]
     },
     "execution_count": 99,
     "metadata": {},
     "output_type": "execute_result"
    }
   ],
   "source": [
    "cheapest_price_per_room  =round(df['HOUSE_VALUE']/df['TOTAL_ROOMS'],2)\n",
    "df['cheapest_price_per_room']= cheapest_price_per_room\n",
    "df.head(10)"
   ]
  },
  {
   "cell_type": "markdown",
   "metadata": {
    "colab_type": "text",
    "id": "YpRQNYwGAncM"
   },
   "source": [
    "6.   Calculate the population density (per family) for the most and least wealthy housing blocks in the dataset."
   ]
  },
  {
   "cell_type": "code",
   "execution_count": 210,
   "metadata": {
    "colab": {},
    "colab_type": "code",
    "id": "RtKpkz57AqVl"
   },
   "outputs": [
    {
     "name": "stdout",
     "output_type": "stream",
     "text": [
      "The least wealthy housing blocks is\n",
      "2521     2.236842\n",
      "2799     2.987805\n",
      "9188     2.791111\n",
      "19802    2.250000\n",
      "Name: dfnew, dtype: float64\n",
      "The most wealthy housing blocks is\n",
      "89       4.658824\n",
      "459      5.396000\n",
      "493      2.415888\n",
      "494      2.754032\n",
      "509      2.623269\n",
      "           ...   \n",
      "20422    2.666667\n",
      "20426    3.487395\n",
      "20427    2.553439\n",
      "20436    3.177898\n",
      "20443    3.714286\n",
      "Name: dfnew, Length: 965, dtype: float64\n"
     ]
    }
   ],
   "source": [
    "#The owner of an expensive house is the owner of a valuable property and the high value of the property expresses the owner's wealthy.\n",
    "#Therefore, wealthy is defined on house_value. \n",
    "\n",
    "#The least wealthy \n",
    "least =df.loc[df['HOUSE_VALUE']== df['HOUSE_VALUE'].min(), 'dfnew']\n",
    "print ('The least wealthy housing blocks is')\n",
    "print(least)\n",
    "\n",
    "#The most wealthy\n",
    "Most =df.loc[df['HOUSE_VALUE']== df['HOUSE_VALUE'].max(), 'dfnew']\n",
    "print ('The most wealthy housing blocks is')\n",
    "print(Most)"
   ]
  },
  {
   "cell_type": "markdown",
   "metadata": {
    "colab_type": "text",
    "id": "nj1raWPgAsiy"
   },
   "source": [
    "7.   Calculate and print the total housing blocks located in the same place."
   ]
  },
  {
   "cell_type": "code",
   "execution_count": 146,
   "metadata": {
    "colab": {},
    "colab_type": "code",
    "id": "AHI-K9m-AwDR"
   },
   "outputs": [
    {
     "name": "stdout",
     "output_type": "stream",
     "text": [
      "The total housing blocks located in the same place is OCEAN_PROXIMITY\n",
      "<1H OCEAN     9136\n",
      "INLAND        6551\n",
      "ISLAND           5\n",
      "NEAR BAY      2290\n",
      "NEAR OCEAN    2658\n",
      "Name: OCEAN_PROXIMITY, dtype: int64\n"
     ]
    }
   ],
   "source": [
    "Total = df.groupby('OCEAN_PROXIMITY')['OCEAN_PROXIMITY'].count()\n",
    "print('The total housing blocks located in the same place is', Total)"
   ]
  },
  {
   "cell_type": "markdown",
   "metadata": {
    "colab_type": "text",
    "id": "44Ak48NQA1G8"
   },
   "source": [
    "8.   Calculate the price of expensive room grouped by ocean proximity."
   ]
  },
  {
   "cell_type": "code",
   "execution_count": 208,
   "metadata": {
    "colab": {},
    "colab_type": "code",
    "id": "wuMgmiElA2Eo"
   },
   "outputs": [
    {
     "name": "stdout",
     "output_type": "stream",
     "text": [
      "the most expensive room: OCEAN_PROXIMITY\n",
      "<1H OCEAN     22500.00\n",
      "INLAND        68750.00\n",
      "ISLAND          451.81\n",
      "NEAR BAY      62500.12\n",
      "NEAR OCEAN    23333.33\n",
      "Name: Price per room, dtype: float64\n"
     ]
    }
   ],
   "source": [
    "PProom= df['HOUSE_VALUE']/df['TOTAL_ROOMS']\n",
    "df['Price per room']= PProom\n",
    "\n",
    "#Maximum price\n",
    "MPrice= df.groupby('OCEAN_PROXIMITY')['Price per room'].max()\n",
    "\n",
    "print ('the most expensive room:', round(MPrice,2))\n"
   ]
  },
  {
   "cell_type": "markdown",
   "metadata": {
    "colab_type": "text",
    "id": "DtPZm2IpA4_u"
   },
   "source": [
    "##**Part-2: Visualization:**  *(6 marks: 3 question x 2 marks each)*\n",
    "\n",
    "\n",
    "1.   Draw the population scatter plot against housing age and another against ocean proximity. From the graph conclude an assumption."
   ]
  },
  {
   "cell_type": "code",
   "execution_count": 48,
   "metadata": {},
   "outputs": [
    {
     "data": {
      "text/plain": [
       "Text(0.5, 1.0, 'Scatter plot of the population against ocean proximity')"
      ]
     },
     "execution_count": 48,
     "metadata": {},
     "output_type": "execute_result"
    },
    {
     "data": {
      "image/png": "[encoded data removed]",
      "text/plain": [
       "<Figure size 432x288 with 1 Axes>"
      ]
     },
     "metadata": {
      "needs_background": "light"
     },
     "output_type": "display_data"
    }
   ],
   "source": [
    "#Population against ocean proximity\n",
    "plt.scatter(df['POPULATION'], df['OCEAN_PROXIMITY'])\n",
    "plt.xlabel('Population')\n",
    "plt.title('Scatter plot of the population against ocean proximity')\n",
    "#From the graph, we can conclude that only a small number of people tend to live in island and the majority prefers living near ocean, <1h ocean, near bay or inland."
   ]
  },
  {
   "cell_type": "code",
   "execution_count": 45,
   "metadata": {},
   "outputs": [
    {
     "data": {
      "text/plain": [
       "Text(0.5, 1.0, 'Scatter plot of the population against housing age')"
      ]
     },
     "execution_count": 45,
     "metadata": {},
     "output_type": "execute_result"
    },
    {
     "data": {
      "image/png": "[encoded data removed]",
      "text/plain": [
       "<Figure size 432x288 with 1 Axes>"
      ]
     },
     "metadata": {
      "needs_background": "light"
     },
     "output_type": "display_data"
    }
   ],
   "source": [
    "#Population against housing age\n",
    "plt.scatter(df['POPULATION'], df['HOUSING_AGE'])\n",
    "plt.xlabel('Population')\n",
    "plt.ylabel('Housing age')\n",
    "plt.title('Scatter plot of the population against housing age')\n",
    "#From the graph, we can conclude that the population density distribution is fairly spread by housing age. However, it is also revealed the younger age of the house, the higher number of population. This means people find younger housing age more appealing to live.  "
   ]
  },
  {
   "cell_type": "markdown",
   "metadata": {
    "colab_type": "text",
    "id": "WAm9CdIsA_yi"
   },
   "source": [
    "2.  Draw a bar diagram of average values of all suitable columns. (excluding latitude, longitude and ocean proximity of course)."
   ]
  },
  {
   "cell_type": "code",
   "execution_count": 44,
   "metadata": {
    "colab": {},
    "colab_type": "code",
    "id": "RKwoOm5OBC6w"
   },
   "outputs": [
    {
     "data": {
      "image/png": "[encoded data removed]",
      "text/plain": [
       "<Figure size 432x288 with 1 Axes>"
      ]
     },
     "metadata": {
      "needs_background": "light"
     },
     "output_type": "display_data"
    }
   ],
   "source": [
    "objects = ('HOUSING_AGE', 'TOTAL_ROOMS', 'TOTAL_BEDROOMS', 'POPULATION', 'FAMILIES', 'AVERAGE_INCOME', 'HOUSE_VALUE')\n",
    "y_pos = np.arange(len(objects))\n",
    "performance = [df['HOUSING_AGE'].mean(),df['TOTAL_ROOMS'].mean(),df['TOTAL_BEDROOMS'].mean(),df['POPULATION'].mean(),df['FAMILIES'].mean(),df['AVERAGE_INCOME'].mean(),df['HOUSE_VALUE'].mean()]\n",
    "\n",
    "plt.barh(y_pos, performance, align='center')\n",
    "plt.yticks(y_pos, objects)\n",
    "plt.xlabel('Average values')\n",
    "plt.title('Average values of suitable variables in dataset')\n",
    "\n",
    "plt.show()"
   ]
  },
  {
   "cell_type": "markdown",
   "metadata": {
    "colab_type": "text",
    "id": "EupiTHf8BEvA"
   },
   "source": [
    "3.   Visualize the differences in housing prices from the average price of housing using a bar diagram."
   ]
  },
  {
   "cell_type": "code",
   "execution_count": 49,
   "metadata": {
    "colab": {},
    "colab_type": "code",
    "id": "j6tBhj2PBIZK",
    "scrolled": true
   },
   "outputs": [
    {
     "name": "stdout",
     "output_type": "stream",
     "text": [
      "The average age of the house blocks near the ocean is OCEAN_PROXIMITY\n",
      "<1H OCEAN     240084.0\n",
      "INLAND        124805.0\n",
      "ISLAND        380440.0\n",
      "NEAR BAY      259212.0\n",
      "NEAR OCEAN    249434.0\n",
      "Name: HOUSE_VALUE, dtype: float64\n"
     ]
    },
    {
     "data": {
      "image/png": "[encoded data removed]",
      "text/plain": [
       "<Figure size 432x288 with 1 Axes>"
      ]
     },
     "metadata": {
      "needs_background": "light"
     },
     "output_type": "display_data"
    }
   ],
   "source": [
    "AverageHV = df.groupby('OCEAN_PROXIMITY')['HOUSE_VALUE'].mean()\n",
    "print('The average age of the house blocks near the ocean is', round(AverageHV,0))\n",
    "\n",
    "objects = ('HOUSE_VALUE','<1H OCEAN','INLAND', 'ISLAND', 'NEAR BAY', 'NEAR OCEAN' )\n",
    "y_pos = np.arange(len(objects))\n",
    "performance = [df['HOUSE_VALUE'].mean(), 240084, 124805, 380440, 259212, 249434]\n",
    "\n",
    "plt.barh(y_pos, performance, align='center')\n",
    "plt.yticks(y_pos, objects)\n",
    "plt.xlabel('Average values')\n",
    "plt.title('The differences in housing prices from the average price of housing ')\n",
    "\n",
    "plt.show()"
   ]
  },
  {
   "cell_type": "markdown",
   "metadata": {
    "colab_type": "text",
    "id": "FgBaJ0rWBKk-"
   },
   "source": [
    "##**Part-3: File Management:**  *(6 marks: 2 question x 3 marks each)*\n",
    "\n",
    " \n",
    "\n",
    "1.   Save the details of all housing blocks in a csv file having houses near oceans and  lower than the average of the housing value."
   ]
  },
  {
   "cell_type": "code",
   "execution_count": 81,
   "metadata": {
    "colab": {},
    "colab_type": "code",
    "id": "c0BR_AMxBOu_"
   },
   "outputs": [],
   "source": [
    "d= df['HOUSE_VALUE'].mean()\n",
    "new=pd.DataFrame(df[df['OCEAN_PROXIMITY']== \"NEAR OCEAN\"])\n",
    "new= new[new['HOUSE_VALUE'] < df['HOUSE_VALUE'].mean()]\n",
    "new.to_csv(\" Details of all housing blocks in a csv file having houses near oceans and lower than the average of the housing value\")"
   ]
  },
  {
   "cell_type": "markdown",
   "metadata": {
    "colab_type": "text",
    "id": "KDM2MY16-qHs"
   },
   "source": [
    "\n",
    "\n",
    "\n",
    "\n",
    "\n",
    "2.   Create a new housing dataset (a csv file) having only the location, total rooms and housing price information.\n",
    "\n",
    "\n",
    "\n",
    "\n"
   ]
  },
  {
   "cell_type": "code",
   "execution_count": 52,
   "metadata": {},
   "outputs": [
    {
     "data": {
      "text/html": [
       "<div>\n",
       "<style scoped>\n",
       "    .dataframe tbody tr th:only-of-type {\n",
       "        vertical-align: middle;\n",
       "    }\n",
       "\n",
       "    .dataframe tbody tr th {\n",
       "        vertical-align: top;\n",
       "    }\n",
       "\n",
       "    .dataframe thead th {\n",
       "        text-align: right;\n",
       "    }\n",
       "</style>\n",
       "<table border=\"1\" class=\"dataframe\">\n",
       "  <thead>\n",
       "    <tr style=\"text-align: right;\">\n",
       "      <th></th>\n",
       "      <th>LONGITUDE</th>\n",
       "      <th>LATITUDE</th>\n",
       "      <th>TOTAL_ROOMS</th>\n",
       "      <th>HOUSE_VALUE</th>\n",
       "    </tr>\n",
       "  </thead>\n",
       "  <tbody>\n",
       "    <tr>\n",
       "      <th>0</th>\n",
       "      <td>-122.23</td>\n",
       "      <td>37.88</td>\n",
       "      <td>880</td>\n",
       "      <td>452600</td>\n",
       "    </tr>\n",
       "    <tr>\n",
       "      <th>1</th>\n",
       "      <td>-122.22</td>\n",
       "      <td>37.86</td>\n",
       "      <td>7099</td>\n",
       "      <td>358500</td>\n",
       "    </tr>\n",
       "    <tr>\n",
       "      <th>2</th>\n",
       "      <td>-122.24</td>\n",
       "      <td>37.85</td>\n",
       "      <td>1467</td>\n",
       "      <td>352100</td>\n",
       "    </tr>\n",
       "    <tr>\n",
       "      <th>3</th>\n",
       "      <td>-122.25</td>\n",
       "      <td>37.85</td>\n",
       "      <td>1274</td>\n",
       "      <td>341300</td>\n",
       "    </tr>\n",
       "    <tr>\n",
       "      <th>4</th>\n",
       "      <td>-122.25</td>\n",
       "      <td>37.85</td>\n",
       "      <td>1627</td>\n",
       "      <td>342200</td>\n",
       "    </tr>\n",
       "    <tr>\n",
       "      <th>5</th>\n",
       "      <td>-122.25</td>\n",
       "      <td>37.85</td>\n",
       "      <td>919</td>\n",
       "      <td>269700</td>\n",
       "    </tr>\n",
       "    <tr>\n",
       "      <th>6</th>\n",
       "      <td>-122.25</td>\n",
       "      <td>37.84</td>\n",
       "      <td>2535</td>\n",
       "      <td>299200</td>\n",
       "    </tr>\n",
       "    <tr>\n",
       "      <th>7</th>\n",
       "      <td>-122.25</td>\n",
       "      <td>37.84</td>\n",
       "      <td>3104</td>\n",
       "      <td>241400</td>\n",
       "    </tr>\n",
       "    <tr>\n",
       "      <th>8</th>\n",
       "      <td>-122.26</td>\n",
       "      <td>37.84</td>\n",
       "      <td>2555</td>\n",
       "      <td>226700</td>\n",
       "    </tr>\n",
       "    <tr>\n",
       "      <th>9</th>\n",
       "      <td>-122.25</td>\n",
       "      <td>37.84</td>\n",
       "      <td>3549</td>\n",
       "      <td>261100</td>\n",
       "    </tr>\n",
       "  </tbody>\n",
       "</table>\n",
       "</div>"
      ],
      "text/plain": [
       "   LONGITUDE  LATITUDE  TOTAL_ROOMS  HOUSE_VALUE\n",
       "0    -122.23     37.88          880       452600\n",
       "1    -122.22     37.86         7099       358500\n",
       "2    -122.24     37.85         1467       352100\n",
       "3    -122.25     37.85         1274       341300\n",
       "4    -122.25     37.85         1627       342200\n",
       "5    -122.25     37.85          919       269700\n",
       "6    -122.25     37.84         2535       299200\n",
       "7    -122.25     37.84         3104       241400\n",
       "8    -122.26     37.84         2555       226700\n",
       "9    -122.25     37.84         3549       261100"
      ]
     },
     "execution_count": 52,
     "metadata": {},
     "output_type": "execute_result"
    }
   ],
   "source": [
    "new4columns = df[['LONGITUDE', 'LATITUDE', 'TOTAL_ROOMS', 'HOUSE_VALUE']].copy()\n",
    "new4columns.head(10)"
   ]
  },
  {
   "cell_type": "code",
   "execution_count": 56,
   "metadata": {},
   "outputs": [],
   "source": [
    "new4columns.to_csv('New housing dataset.csv')"
   ]
  }
 ],
 "metadata": {
  "colab": {
   "collapsed_sections": [],
   "name": "A1.ipynb",
   "provenance": []
  },
  "kernelspec": {
   "display_name": "Python 3",
   "language": "python",
   "name": "python3"
  },
  "language_info": {
   "codemirror_mode": {
    "name": "ipython",
    "version": 3
   },
   "file_extension": ".py",
   "mimetype": "text/x-python",
   "name": "python",
   "nbconvert_exporter": "python",
   "pygments_lexer": "ipython3",
   "version": "3.7.6"
  }
 },
 "nbformat": 4,
 "nbformat_minor": 1
}
