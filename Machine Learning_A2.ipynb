{
 "cells": [
  {
   "cell_type": "markdown",
   "metadata": {
    "colab_type": "text",
    "id": "06bbe_5WGk3v"
   },
   "source": [
    "#**SIT 720 - Machine Learning**\n",
    "\n",
    "Lecturer: Chandan Karmakar | karmakar@deakin.edu.au\n",
    "\n",
    "School of Information Technology,\n",
    "<br/>Deakin University, VIC 3125, Australia."
   ]
  },
  {
   "cell_type": "markdown",
   "metadata": {
    "colab_type": "text",
    "id": "es6VJF6zGpZi"
   },
   "source": [
    "#**Assessment Task 2 (30 marks)**\n",
    "\n",
    "##**Submission Instruction**\n",
    "1.  Student should insert Python code or text responses into the cell followed by the question.\n",
    "\n",
    "2.  For answers regarding discussion or explanation, **maximum five sentences are suggested**.\n",
    "\n",
    "3.  Rename this notebook file appending your student ID. For example, for student ID 1234, the submitted file name should be A2_1234.ipynb.\n",
    "\n",
    "4.  Insert your student ID and name in the following cell."
   ]
  },
  {
   "cell_type": "code",
   "execution_count": 1,
   "metadata": {
    "colab": {},
    "colab_type": "code",
    "id": "IeD67KEpG8I6"
   },
   "outputs": [],
   "source": [
    "# Student ID: 218197069\n",
    "\n",
    "# Student name:THAO NGUYEN"
   ]
  },
  {
   "cell_type": "code",
   "execution_count": 2,
   "metadata": {},
   "outputs": [],
   "source": [
    "# import the necessary modules here \n",
    "# to save us from writing some very complex maths code\n",
    "from matplotlib import pyplot as plt\n",
    "import numpy as np\n",
    "import pandas as pd\n",
    "from sklearn.cluster import KMeans\n",
    "from sklearn import metrics\n",
    "from scipy.spatial.distance import cdist\n",
    "from scipy.optimize import linear_sum_assignment\n",
    "from sklearn.metrics import confusion_matrix\n",
    "from sklearn.preprocessing import StandardScaler\n",
    "from sklearn.preprocessing import scale"
   ]
  },
  {
   "cell_type": "code",
   "execution_count": 3,
   "metadata": {},
   "outputs": [
    {
     "data": {
      "text/plain": [
       "'/Users/nguyenthao'"
      ]
     },
     "execution_count": 3,
     "metadata": {},
     "output_type": "execute_result"
    }
   ],
   "source": [
    "pwd"
   ]
  },
  {
   "cell_type": "markdown",
   "metadata": {
    "colab_type": "text",
    "id": "oYFXM_D7HCHb"
   },
   "source": [
    "## Part 1: Clustering *(15 marks)*\n",
    "\n",
    "Let's assume you want to design an environment to predict a class/category from a dataset based on specific features of that class. However, all the features are not strong enough or in other words features not that much variance/uniqueness across the classes. So, you have to design a clustering model by answering the following questions:\n",
    "\n",
    "1. Download the attached clustering.csv file. Read the file and separate the class and feature matrix. __(2 marks)__"
   ]
  },
  {
   "cell_type": "code",
   "execution_count": 4,
   "metadata": {
    "colab": {},
    "colab_type": "code",
    "id": "crKN9O9jKi4w",
    "scrolled": false
   },
   "outputs": [
    {
     "data": {
      "text/html": [
       "<div>\n",
       "<style scoped>\n",
       "    .dataframe tbody tr th:only-of-type {\n",
       "        vertical-align: middle;\n",
       "    }\n",
       "\n",
       "    .dataframe tbody tr th {\n",
       "        vertical-align: top;\n",
       "    }\n",
       "\n",
       "    .dataframe thead th {\n",
       "        text-align: right;\n",
       "    }\n",
       "</style>\n",
       "<table border=\"1\" class=\"dataframe\">\n",
       "  <thead>\n",
       "    <tr style=\"text-align: right;\">\n",
       "      <th></th>\n",
       "      <th>height</th>\n",
       "      <th>length</th>\n",
       "      <th>width</th>\n",
       "      <th>std</th>\n",
       "      <th>min</th>\n",
       "      <th>max</th>\n",
       "      <th>kurtosis</th>\n",
       "      <th>Class</th>\n",
       "    </tr>\n",
       "  </thead>\n",
       "  <tbody>\n",
       "    <tr>\n",
       "      <th>0</th>\n",
       "      <td>15.26</td>\n",
       "      <td>14.84</td>\n",
       "      <td>0.8710</td>\n",
       "      <td>5.763</td>\n",
       "      <td>3.312</td>\n",
       "      <td>2.221</td>\n",
       "      <td>5.220</td>\n",
       "      <td>0</td>\n",
       "    </tr>\n",
       "    <tr>\n",
       "      <th>1</th>\n",
       "      <td>14.88</td>\n",
       "      <td>14.57</td>\n",
       "      <td>0.8811</td>\n",
       "      <td>5.554</td>\n",
       "      <td>3.333</td>\n",
       "      <td>1.018</td>\n",
       "      <td>4.956</td>\n",
       "      <td>0</td>\n",
       "    </tr>\n",
       "    <tr>\n",
       "      <th>2</th>\n",
       "      <td>14.29</td>\n",
       "      <td>14.09</td>\n",
       "      <td>0.9050</td>\n",
       "      <td>5.291</td>\n",
       "      <td>3.337</td>\n",
       "      <td>2.699</td>\n",
       "      <td>4.825</td>\n",
       "      <td>0</td>\n",
       "    </tr>\n",
       "    <tr>\n",
       "      <th>3</th>\n",
       "      <td>13.84</td>\n",
       "      <td>13.94</td>\n",
       "      <td>0.8955</td>\n",
       "      <td>5.324</td>\n",
       "      <td>3.379</td>\n",
       "      <td>2.259</td>\n",
       "      <td>4.805</td>\n",
       "      <td>0</td>\n",
       "    </tr>\n",
       "    <tr>\n",
       "      <th>4</th>\n",
       "      <td>16.14</td>\n",
       "      <td>14.99</td>\n",
       "      <td>0.9034</td>\n",
       "      <td>5.658</td>\n",
       "      <td>3.562</td>\n",
       "      <td>1.355</td>\n",
       "      <td>5.175</td>\n",
       "      <td>0</td>\n",
       "    </tr>\n",
       "  </tbody>\n",
       "</table>\n",
       "</div>"
      ],
      "text/plain": [
       "   height  length   width    std    min    max  kurtosis  Class\n",
       "0   15.26   14.84  0.8710  5.763  3.312  2.221     5.220      0\n",
       "1   14.88   14.57  0.8811  5.554  3.333  1.018     4.956      0\n",
       "2   14.29   14.09  0.9050  5.291  3.337  2.699     4.825      0\n",
       "3   13.84   13.94  0.8955  5.324  3.379  2.259     4.805      0\n",
       "4   16.14   14.99  0.9034  5.658  3.562  1.355     5.175      0"
      ]
     },
     "execution_count": 4,
     "metadata": {},
     "output_type": "execute_result"
    }
   ],
   "source": [
    "# store the data in a csv file\n",
    "df = pd.read_csv(\"A2_clustering.csv\")\n",
    "df.head()"
   ]
  },
  {
   "cell_type": "code",
   "execution_count": 5,
   "metadata": {
    "scrolled": true
   },
   "outputs": [
    {
     "data": {
      "text/plain": [
       "0    0\n",
       "1    0\n",
       "2    0\n",
       "3    0\n",
       "4    0\n",
       "5    0\n",
       "6    0\n",
       "7    0\n",
       "8    0\n",
       "9    0\n",
       "Name: Class, dtype: int64"
      ]
     },
     "execution_count": 5,
     "metadata": {},
     "output_type": "execute_result"
    }
   ],
   "source": [
    "#Seperate the class\n",
    "ground_truth = df['Class']\n",
    "ground_truth.head(10)"
   ]
  },
  {
   "cell_type": "code",
   "execution_count": 6,
   "metadata": {},
   "outputs": [
    {
     "data": {
      "text/html": [
       "<div>\n",
       "<style scoped>\n",
       "    .dataframe tbody tr th:only-of-type {\n",
       "        vertical-align: middle;\n",
       "    }\n",
       "\n",
       "    .dataframe tbody tr th {\n",
       "        vertical-align: top;\n",
       "    }\n",
       "\n",
       "    .dataframe thead th {\n",
       "        text-align: right;\n",
       "    }\n",
       "</style>\n",
       "<table border=\"1\" class=\"dataframe\">\n",
       "  <thead>\n",
       "    <tr style=\"text-align: right;\">\n",
       "      <th></th>\n",
       "      <th>height</th>\n",
       "      <th>length</th>\n",
       "      <th>width</th>\n",
       "      <th>std</th>\n",
       "      <th>min</th>\n",
       "      <th>max</th>\n",
       "      <th>kurtosis</th>\n",
       "    </tr>\n",
       "  </thead>\n",
       "  <tbody>\n",
       "    <tr>\n",
       "      <th>0</th>\n",
       "      <td>15.26</td>\n",
       "      <td>14.84</td>\n",
       "      <td>0.8710</td>\n",
       "      <td>5.763</td>\n",
       "      <td>3.312</td>\n",
       "      <td>2.221</td>\n",
       "      <td>5.220</td>\n",
       "    </tr>\n",
       "    <tr>\n",
       "      <th>1</th>\n",
       "      <td>14.88</td>\n",
       "      <td>14.57</td>\n",
       "      <td>0.8811</td>\n",
       "      <td>5.554</td>\n",
       "      <td>3.333</td>\n",
       "      <td>1.018</td>\n",
       "      <td>4.956</td>\n",
       "    </tr>\n",
       "    <tr>\n",
       "      <th>2</th>\n",
       "      <td>14.29</td>\n",
       "      <td>14.09</td>\n",
       "      <td>0.9050</td>\n",
       "      <td>5.291</td>\n",
       "      <td>3.337</td>\n",
       "      <td>2.699</td>\n",
       "      <td>4.825</td>\n",
       "    </tr>\n",
       "    <tr>\n",
       "      <th>3</th>\n",
       "      <td>13.84</td>\n",
       "      <td>13.94</td>\n",
       "      <td>0.8955</td>\n",
       "      <td>5.324</td>\n",
       "      <td>3.379</td>\n",
       "      <td>2.259</td>\n",
       "      <td>4.805</td>\n",
       "    </tr>\n",
       "    <tr>\n",
       "      <th>4</th>\n",
       "      <td>16.14</td>\n",
       "      <td>14.99</td>\n",
       "      <td>0.9034</td>\n",
       "      <td>5.658</td>\n",
       "      <td>3.562</td>\n",
       "      <td>1.355</td>\n",
       "      <td>5.175</td>\n",
       "    </tr>\n",
       "    <tr>\n",
       "      <th>5</th>\n",
       "      <td>14.38</td>\n",
       "      <td>14.21</td>\n",
       "      <td>0.8951</td>\n",
       "      <td>5.386</td>\n",
       "      <td>3.312</td>\n",
       "      <td>2.462</td>\n",
       "      <td>4.956</td>\n",
       "    </tr>\n",
       "    <tr>\n",
       "      <th>6</th>\n",
       "      <td>14.69</td>\n",
       "      <td>14.49</td>\n",
       "      <td>0.8799</td>\n",
       "      <td>5.563</td>\n",
       "      <td>3.259</td>\n",
       "      <td>3.586</td>\n",
       "      <td>5.219</td>\n",
       "    </tr>\n",
       "    <tr>\n",
       "      <th>7</th>\n",
       "      <td>14.11</td>\n",
       "      <td>14.10</td>\n",
       "      <td>0.8911</td>\n",
       "      <td>5.420</td>\n",
       "      <td>3.302</td>\n",
       "      <td>2.700</td>\n",
       "      <td>5.000</td>\n",
       "    </tr>\n",
       "    <tr>\n",
       "      <th>8</th>\n",
       "      <td>16.63</td>\n",
       "      <td>15.46</td>\n",
       "      <td>0.8747</td>\n",
       "      <td>6.053</td>\n",
       "      <td>3.465</td>\n",
       "      <td>2.040</td>\n",
       "      <td>5.877</td>\n",
       "    </tr>\n",
       "    <tr>\n",
       "      <th>9</th>\n",
       "      <td>16.44</td>\n",
       "      <td>15.25</td>\n",
       "      <td>0.8880</td>\n",
       "      <td>5.884</td>\n",
       "      <td>3.505</td>\n",
       "      <td>1.969</td>\n",
       "      <td>5.533</td>\n",
       "    </tr>\n",
       "  </tbody>\n",
       "</table>\n",
       "</div>"
      ],
      "text/plain": [
       "   height  length   width    std    min    max  kurtosis\n",
       "0   15.26   14.84  0.8710  5.763  3.312  2.221     5.220\n",
       "1   14.88   14.57  0.8811  5.554  3.333  1.018     4.956\n",
       "2   14.29   14.09  0.9050  5.291  3.337  2.699     4.825\n",
       "3   13.84   13.94  0.8955  5.324  3.379  2.259     4.805\n",
       "4   16.14   14.99  0.9034  5.658  3.562  1.355     5.175\n",
       "5   14.38   14.21  0.8951  5.386  3.312  2.462     4.956\n",
       "6   14.69   14.49  0.8799  5.563  3.259  3.586     5.219\n",
       "7   14.11   14.10  0.8911  5.420  3.302  2.700     5.000\n",
       "8   16.63   15.46  0.8747  6.053  3.465  2.040     5.877\n",
       "9   16.44   15.25  0.8880  5.884  3.505  1.969     5.533"
      ]
     },
     "execution_count": 6,
     "metadata": {},
     "output_type": "execute_result"
    }
   ],
   "source": [
    "#Feature matrix\n",
    "df_features = df.loc[:, df.columns != 'Class']\n",
    "df_features.head(10)"
   ]
  },
  {
   "cell_type": "markdown",
   "metadata": {
    "colab_type": "text",
    "id": "3CYvoztIKjoq"
   },
   "source": [
    "2. Determine the number of clusters from the dataset. Is this same as the actual number of classes in the dataset? __(1 marks)__\n",
    "\n",
    "<!-- Choose the best three features using different selection criteria (ANOVA, Chi-squared) based on the purity score for the k-mean cluster (Euclidean distance matrix). Which one is good and why? __(5 marks)__ -->"
   ]
  },
  {
   "cell_type": "code",
   "execution_count": 7,
   "metadata": {},
   "outputs": [
    {
     "data": {
      "text/plain": [
       "array([[ 1.42097769e-01,  2.15462437e-01,  6.06017918e-05, ...,\n",
       "         1.41701823e-01, -9.86151745e-01, -3.83577423e-01],\n",
       "       [ 1.11880257e-02,  8.22375713e-03,  4.28515270e-01, ...,\n",
       "         1.97432229e-01, -1.78816620e+00, -9.22013487e-01],\n",
       "       [-1.92066576e-01, -3.60200562e-01,  1.44238325e+00, ...,\n",
       "         2.08047544e-01, -6.67479334e-01, -1.18919199e+00],\n",
       "       ...,\n",
       "       [-5.67570840e-01, -6.90247348e-01,  7.33948301e-01, ...,\n",
       "        -7.06044846e-02,  3.07658816e+00, -7.18060432e-01],\n",
       "       [-1.03608992e+00, -1.03564515e+00, -8.01701104e-01, ...,\n",
       "        -1.12152071e+00, -6.81351965e-02, -7.42534799e-01],\n",
       "       [-8.77620233e-01, -9.35863561e-01, -1.10234659e-01, ...,\n",
       "        -7.55292327e-01,  1.29122264e+00, -7.03783718e-01]])"
      ]
     },
     "execution_count": 7,
     "metadata": {},
     "output_type": "execute_result"
    }
   ],
   "source": [
    "# normalize the data attributes\n",
    "normdf = StandardScaler().fit_transform(df_features)\n",
    "normdf "
   ]
  },
  {
   "cell_type": "code",
   "execution_count": 8,
   "metadata": {},
   "outputs": [
    {
     "data": {
      "image/png": "[encoded data removed]",
      "text/plain": [
       "<Figure size 432x288 with 1 Axes>"
      ]
     },
     "metadata": {
      "needs_background": "light"
     },
     "output_type": "display_data"
    },
    {
     "name": "stdout",
     "output_type": "stream",
     "text": [
      "For the given data, we conclude that the optimal number of clusters for the data is 3 and it is same as the actual number of classes in the dataset.\n"
     ]
    }
   ],
   "source": [
    "# k means determine k\n",
    "TotalSqrtDist = []\n",
    "K_range = range(1,15)\n",
    "for k in K_range:\n",
    "    kmeanModel = KMeans(n_clusters=k)\n",
    "    kmeanModel.fit(normdf)\n",
    "    TotalSqrtDist.append(kmeanModel.inertia_)\n",
    "    \n",
    "# Plot the elbow\n",
    "plt.plot(K_range, TotalSqrtDist, 'bx-')\n",
    "plt.xlabel('Number of clusters')\n",
    "plt.ylabel('Sum of squared distance')\n",
    "plt.title('The Elbow Method showing the optimal k')\n",
    "plt.axvline(3, 0, 1, label='pyplot vertical line')\n",
    "plt.legend()\n",
    "plt.show()\n",
    "\n",
    "#Print the result\n",
    "print ('For the given data, we conclude that the optimal number of clusters for the data is 3 and it is same as the actual number of classes in the dataset.')"
   ]
  },
  {
   "cell_type": "markdown",
   "metadata": {
    "colab_type": "text",
    "id": "lomdzPf33Ga8"
   },
   "source": [
    "3. Perform K-Means clustering on the complete dataset and report purity score. __(2 marks)__ "
   ]
  },
  {
   "cell_type": "code",
   "execution_count": 9,
   "metadata": {},
   "outputs": [
    {
     "name": "stdout",
     "output_type": "stream",
     "text": [
      "[[62  6  2]\n",
      " [ 5  0 65]\n",
      " [ 4 66  0]]\n",
      "[0 1 2] [0 2 1]\n",
      "purity score: 0.919047619047619\n"
     ]
    }
   ],
   "source": [
    "# According to the Elbow graph we deterrmine the clusters number as 3. Applying k-means algorithm to the dataset.\n",
    "from sklearn import cluster\n",
    "\n",
    "kmeans = KMeans(n_clusters=3,init='k-means++', random_state = 0,max_iter=500)\n",
    "kmeans.fit(normdf)\n",
    "centroids = kmeans.cluster_centers_\n",
    "labels = kmeans.labels_\n",
    "y_pred = kmeans.fit_predict(normdf)# save new clusters for chart\n",
    "\n",
    "#compute confusion matrix\n",
    "from sklearn.metrics import confusion_matrix\n",
    "y_true = ground_truth\n",
    "y_pred = kmeans.fit_predict(normdf)\n",
    "confusion_matrix = confusion_matrix(y_true, y_pred)\n",
    "print(confusion_matrix)\n",
    " # Find optimal one-to-one mapping between cluster labels and true labels\n",
    "row_ind, col_ind = linear_sum_assignment(-confusion_matrix)\n",
    "print(row_ind, col_ind)\n",
    "# Return cluster accuracy\n",
    "print('purity score:',confusion_matrix[row_ind, col_ind].sum() / np.sum(confusion_matrix))"
   ]
  },
  {
   "cell_type": "markdown",
   "metadata": {
    "colab_type": "text",
    "id": "CsImMLOzK1dV"
   },
   "source": [
    "4. There are several distance metrics for  K-Means such as euclidean, squared euclidean, Manhattan, Chebyshev, Minkowski. [ __Hints:__ See the pyclustering library for python.]\n",
    "    - Your job is to compare the purity score of k-means clustering for different distance metrics. __(5 marks)__ \n",
    "    - Select the best distance metric and explain why this distance metric is best for the given dataset. __(2 marks)__ "
   ]
  },
  {
   "cell_type": "code",
   "execution_count": 10,
   "metadata": {},
   "outputs": [
    {
     "name": "stdout",
     "output_type": "stream",
     "text": [
      "Requirement already satisfied: pyclustering in ./opt/anaconda3/lib/python3.8/site-packages (0.10.0.1)\n",
      "Requirement already satisfied: scipy in ./opt/anaconda3/lib/python3.8/site-packages (from pyclustering) (1.5.0)\n",
      "Requirement already satisfied: numpy in ./opt/anaconda3/lib/python3.8/site-packages (from pyclustering) (1.18.5)\n",
      "Requirement already satisfied: matplotlib in ./opt/anaconda3/lib/python3.8/site-packages (from pyclustering) (3.2.2)\n",
      "Requirement already satisfied: Pillow in ./opt/anaconda3/lib/python3.8/site-packages (from pyclustering) (7.2.0)\n",
      "Requirement already satisfied: cycler>=0.10 in ./opt/anaconda3/lib/python3.8/site-packages (from matplotlib->pyclustering) (0.10.0)\n",
      "Requirement already satisfied: kiwisolver>=1.0.1 in ./opt/anaconda3/lib/python3.8/site-packages (from matplotlib->pyclustering) (1.2.0)\n",
      "Requirement already satisfied: python-dateutil>=2.1 in ./opt/anaconda3/lib/python3.8/site-packages (from matplotlib->pyclustering) (2.8.1)\n",
      "Requirement already satisfied: pyparsing!=2.0.4,!=2.1.2,!=2.1.6,>=2.0.1 in ./opt/anaconda3/lib/python3.8/site-packages (from matplotlib->pyclustering) (2.4.7)\n",
      "Requirement already satisfied: six in ./opt/anaconda3/lib/python3.8/site-packages (from cycler>=0.10->matplotlib->pyclustering) (1.15.0)\n"
     ]
    }
   ],
   "source": [
    "!pip3 install pyclustering\n",
    "from pyclustering.cluster.kmeans import kmeans, kmeans_visualizer\n",
    "from pyclustering.cluster.center_initializer import kmeans_plusplus_initializer\n",
    "from pyclustering.utils.metric import distance_metric, type_metric"
   ]
  },
  {
   "cell_type": "code",
   "execution_count": 11,
   "metadata": {},
   "outputs": [
    {
     "name": "stdout",
     "output_type": "stream",
     "text": [
      "confusion_matrix: [[ 2  9 59]\n",
      " [64  0  6]\n",
      " [ 0 66  4]]\n",
      "Purity score of Kmeans using Euclidean: 0.9\n"
     ]
    }
   ],
   "source": [
    "initial_centers = kmeans_plusplus_initializer(normdf, 3,random_state=0).initialize()\n",
    "itermax = 500\n",
    "\n",
    "#K-Means using Euclidean\n",
    "euclidean_metric = distance_metric(type_metric.EUCLIDEAN)\n",
    "kmeans_instance1 = kmeans(normdf, initial_centers, metric= euclidean_metric,itermax = itermax)\n",
    "kmeans_instance1.process()\n",
    "clusters1 = kmeans_instance1.get_clusters()\n",
    "centroids1 = kmeans_instance1.get_centers()\n",
    "y_pred1 = kmeans_instance1.predict(normdf)\n",
    "\n",
    "#compute confusion matrix\n",
    "from sklearn.metrics import confusion_matrix\n",
    "confusion_matrix1 = confusion_matrix(y_true, y_pred1)\n",
    "print('confusion_matrix:',confusion_matrix1)\n",
    "\n",
    " # Find optimal one-to-one mapping between cluster labels and true labels\n",
    "row_ind, col_ind = linear_sum_assignment(-confusion_matrix1)\n",
    "purity1 = confusion_matrix1[row_ind, col_ind].sum() / np.sum(confusion_matrix1)\n",
    "# Return cluster accuracy\n",
    "print('Purity score of Kmeans using Euclidean:',purity1)"
   ]
  },
  {
   "cell_type": "code",
   "execution_count": 12,
   "metadata": {},
   "outputs": [
    {
     "name": "stdout",
     "output_type": "stream",
     "text": [
      "confusion_matrix: [[ 2  7 61]\n",
      " [65  0  5]\n",
      " [ 0 66  4]]\n",
      "Purity score of Kmeans using Euclidean Square: 0.9142857142857143\n"
     ]
    }
   ],
   "source": [
    "#K-Means using Euclidean Square\n",
    "euclideansquare_metric = distance_metric(type_metric.EUCLIDEAN_SQUARE)\n",
    "kmeans_instance2 = kmeans(normdf, initial_centers, metric= euclideansquare_metric,itermax = itermax)\n",
    "kmeans_instance2.process()\n",
    "clusters2 = kmeans_instance2.get_clusters()\n",
    "centroids2 = kmeans_instance2.get_centers()\n",
    "y_pred2 = kmeans_instance2.predict(normdf)\n",
    "\n",
    "#compute confusion matrix\n",
    "confusion_matrix2 = confusion_matrix(y_true, y_pred2)\n",
    "print('confusion_matrix:',confusion_matrix2)\n",
    "\n",
    " # Find optimal one-to-one mapping between cluster labels and true labels\n",
    "row_ind, col_ind = linear_sum_assignment(-confusion_matrix2)\n",
    "purity2 = confusion_matrix2[row_ind, col_ind].sum() / np.sum(confusion_matrix2)\n",
    "# Return cluster accuracy\n",
    "print('Purity score of Kmeans using Euclidean Square:',purity2)"
   ]
  },
  {
   "cell_type": "code",
   "execution_count": 13,
   "metadata": {},
   "outputs": [
    {
     "name": "stdout",
     "output_type": "stream",
     "text": [
      "confusion_matrix: [[ 2 11 57]\n",
      " [61  0  9]\n",
      " [ 0 68  2]]\n",
      "Purity score of Kmeans using Manhattan: 0.8857142857142857\n"
     ]
    }
   ],
   "source": [
    "#K-Means using Manhattan\n",
    "manhattan_metric = distance_metric(type_metric.MANHATTAN)\n",
    "kmeans_instance3 = kmeans(normdf, initial_centers, metric=manhattan_metric,itermax = itermax)# create instance of K-Means using specific distance metric\n",
    "kmeans_instance3.process()# run cluster analysis and obtain results\n",
    "clusters3 = kmeans_instance3.get_clusters()\n",
    "centroids3 = kmeans_instance3.get_centers()# print location of clusters learned by kmeans object\n",
    "y_pred3 = kmeans_instance3.predict(normdf)# save new clusters for chart\n",
    "\n",
    "#compute confusion matrix\n",
    "from sklearn.metrics import confusion_matrix\n",
    "confusion_matrix3 = confusion_matrix(y_true, y_pred3)\n",
    "print('confusion_matrix:',confusion_matrix3)\n",
    "\n",
    " # Find optimal one-to-one mapping between cluster labels and true labels\n",
    "row_ind, col_ind = linear_sum_assignment(-confusion_matrix3)\n",
    "purity3 = (confusion_matrix3[row_ind, col_ind].sum() / np.sum(confusion_matrix3))\n",
    "# Return cluster accuracy\n",
    "print('Purity score of Kmeans using Manhattan:',purity3)"
   ]
  },
  {
   "cell_type": "code",
   "execution_count": 14,
   "metadata": {},
   "outputs": [
    {
     "name": "stdout",
     "output_type": "stream",
     "text": [
      "confusion_matrix: [[ 5  7 58]\n",
      " [68  0  2]\n",
      " [ 0 61  9]]\n",
      "Purity score of Kmeans using Chebyshev: 0.8904761904761904\n"
     ]
    }
   ],
   "source": [
    "#K-Means using Chebyshev\n",
    "Chebyshev_metric = distance_metric(type_metric.CHEBYSHEV)\n",
    "kmeans_instance4 = kmeans(normdf, initial_centers, metric= Chebyshev_metric)# create instance of K-Means using specific distance metric\n",
    "kmeans_instance4.process()# run cluster analysis and obtain results\n",
    "clusters4 = kmeans_instance4.get_clusters()\n",
    "centroids4 = kmeans_instance4.get_centers()# print location of clusters learned by kmeans object\n",
    "y_pred4 = kmeans_instance4.predict(normdf)# save new clusters for chart\n",
    "\n",
    "#compute confusion matrix\n",
    "from sklearn.metrics import confusion_matrix\n",
    "confusion_matrix4 = confusion_matrix(y_true, y_pred4)\n",
    "print('confusion_matrix:',confusion_matrix4)\n",
    "\n",
    " # Find optimal one-to-one mapping between cluster labels and true labels\n",
    "row_ind, col_ind = linear_sum_assignment(-confusion_matrix4)\n",
    "purity4 = (confusion_matrix4[row_ind, col_ind].sum() / np.sum(confusion_matrix4))\n",
    "# Return cluster accuracy\n",
    "print('Purity score of Kmeans using Chebyshev:',purity4)"
   ]
  },
  {
   "cell_type": "code",
   "execution_count": 15,
   "metadata": {},
   "outputs": [
    {
     "name": "stdout",
     "output_type": "stream",
     "text": [
      "confusion_matrix: [[ 5  5 60]\n",
      " [66  0  4]\n",
      " [ 0 65  5]]\n",
      "Purity score of Kmeans using Minkowski: 0.9095238095238095\n"
     ]
    }
   ],
   "source": [
    "#K-Means using Minkowski\n",
    "Minkowski_metric = distance_metric(type_metric.MINKOWSKI, degree =4)\n",
    "kmeans_instance5 = kmeans(normdf, initial_centers, metric= Minkowski_metric,itermax = itermax)# create instance of K-Means using specific distance metric\n",
    "kmeans_instance5.process()# run cluster analysis and obtain results\n",
    "clusters5 = kmeans_instance5.get_clusters()\n",
    "centroids5 = kmeans_instance5.get_centers()# print location of clusters learned by kmeans object\n",
    "y_pred5 = kmeans_instance5.predict(normdf)# save new clusters for chart\n",
    "\n",
    "#compute confusion matrix\n",
    "from sklearn.metrics import confusion_matrix\n",
    "confusion_matrix5 = confusion_matrix(y_true, y_pred5)\n",
    "print('confusion_matrix:',confusion_matrix5)\n",
    "\n",
    " # Find optimal one-to-one mapping between cluster labels and true labels\n",
    "row_ind, col_ind = linear_sum_assignment(-confusion_matrix5)\n",
    "purity5 = (confusion_matrix5[row_ind, col_ind].sum() / np.sum(confusion_matrix5))\n",
    "# Return cluster accuracy\n",
    "print('Purity score of Kmeans using Minkowski:', purity5)"
   ]
  },
  {
   "cell_type": "code",
   "execution_count": 16,
   "metadata": {},
   "outputs": [
    {
     "name": "stdout",
     "output_type": "stream",
     "text": [
      "[[0.9, 0.9142857142857143, 0.8857142857142857, 0.8904761904761904, 0.9095238095238095]]\n",
      "Based on purity scores above, purity score of K means using Euclidean Square Distance is highest (approxmiately 91.42%), followed by Euclidean, Minkowski, Chebyshev  and Manhattan.\n"
     ]
    }
   ],
   "source": [
    "purityscores = [[purity1, purity2, purity3, purity4, purity5]]\n",
    "print(purityscores)\n",
    "print('Based on purity scores above, purity score of K means using Euclidean Square Distance is highest (approxmiately 91.42%), followed by Euclidean, Minkowski, Chebyshev  and Manhattan.')"
   ]
  },
  {
   "cell_type": "code",
   "execution_count": 17,
   "metadata": {},
   "outputs": [
    {
     "name": "stdout",
     "output_type": "stream",
     "text": [
      "The best distance metric is Squared Euclidean Distance (SED) because it has the highest purity. Thus, SED can be used to avoid the computation of square root to get the squared distance between the data points \n"
     ]
    }
   ],
   "source": [
    "print('The best distance metric is Squared Euclidean Distance (SED) because it has the highest purity. Thus, SED can be used to avoid the computation of square root to get the squared distance between the data points ')"
   ]
  },
  {
   "cell_type": "markdown",
   "metadata": {
    "colab_type": "text",
    "id": "xsG5SQti4b7E"
   },
   "source": [
    "5. Use selection criteria (ANOVA, Chi-squared) to select best three features and use them for K-Means clustering. Based on the purity score which feature set are you going to recommend and why? __(3 marks)__"
   ]
  },
  {
   "cell_type": "code",
   "execution_count": 18,
   "metadata": {
    "scrolled": true
   },
   "outputs": [],
   "source": [
    "# Load libraries\n",
    "from sklearn.datasets import load_iris\n",
    "from sklearn.feature_selection import SelectKBest\n",
    "from sklearn.feature_selection import f_classif"
   ]
  },
  {
   "cell_type": "code",
   "execution_count": 19,
   "metadata": {
    "colab": {},
    "colab_type": "code",
    "id": "9lCTzujBKpL4"
   },
   "outputs": [
    {
     "name": "stdout",
     "output_type": "stream",
     "text": [
      "Original number of features: 7\n",
      "Reduced number of features: 3\n",
      "Features using ANOVA: [[15.26  14.84   3.312]\n",
      " [14.88  14.57   3.333]\n",
      " [14.29  14.09   3.337]\n",
      " [13.84  13.94   3.379]\n",
      " [16.14  14.99   3.562]\n",
      " [14.38  14.21   3.312]\n",
      " [14.69  14.49   3.259]\n",
      " [14.11  14.1    3.302]\n",
      " [16.63  15.46   3.465]\n",
      " [16.44  15.25   3.505]\n",
      " [15.26  14.85   3.242]\n",
      " [14.03  14.16   3.201]\n",
      " [13.89  14.02   3.199]\n",
      " [13.78  14.06   3.156]\n",
      " [13.74  14.05   3.114]\n",
      " [14.59  14.28   3.333]\n",
      " [13.99  13.83   3.383]\n",
      " [15.69  14.75   3.514]\n",
      " [14.7   14.21   3.466]\n",
      " [12.72  13.57   3.049]\n",
      " [14.16  14.4    3.129]\n",
      " [14.11  14.26   3.168]\n",
      " [15.88  14.9    3.507]\n",
      " [12.08  13.23   2.936]\n",
      " [15.01  14.76   3.245]\n",
      " [16.19  15.16   3.421]\n",
      " [13.02  13.76   3.026]\n",
      " [12.74  13.67   2.956]\n",
      " [14.11  14.18   3.221]\n",
      " [13.45  14.02   3.065]\n",
      " [13.16  13.82   2.975]\n",
      " [15.49  14.94   3.371]\n",
      " [14.09  14.41   3.186]\n",
      " [13.94  14.17   3.15 ]\n",
      " [15.05  14.68   3.328]\n",
      " [16.12  15.     3.485]\n",
      " [16.2   15.27   3.464]\n",
      " [17.08  15.38   3.683]\n",
      " [14.8   14.52   3.288]\n",
      " [14.28  14.17   3.298]\n",
      " [13.54  13.85   3.156]\n",
      " [13.5   13.85   3.158]\n",
      " [13.16  13.55   3.201]\n",
      " [15.5   14.86   3.396]\n",
      " [15.11  14.54   3.462]\n",
      " [13.8   14.04   3.155]\n",
      " [15.36  14.76   3.393]\n",
      " [14.99  14.56   3.377]\n",
      " [14.79  14.52   3.291]\n",
      " [14.86  14.67   3.258]\n",
      " [14.43  14.4    3.272]\n",
      " [15.78  14.91   3.434]\n",
      " [14.49  14.61   3.113]\n",
      " [14.33  14.28   3.199]\n",
      " [14.52  14.6    3.113]\n",
      " [15.03  14.77   3.212]\n",
      " [14.46  14.35   3.377]\n",
      " [14.92  14.43   3.412]\n",
      " [15.38  14.77   3.419]\n",
      " [12.11  13.47   3.032]\n",
      " [11.42  12.86   2.85 ]\n",
      " [11.23  12.63   2.879]\n",
      " [12.36  13.19   3.042]\n",
      " [13.22  13.84   3.07 ]\n",
      " [12.78  13.57   3.026]\n",
      " [12.88  13.5    3.119]\n",
      " [14.34  14.37   3.19 ]\n",
      " [14.01  14.29   3.158]\n",
      " [14.37  14.39   3.153]\n",
      " [12.73  13.75   2.882]\n",
      " [17.63  15.98   3.561]\n",
      " [16.84  15.67   3.484]\n",
      " [17.26  15.73   3.594]\n",
      " [19.11  16.26   3.93 ]\n",
      " [16.82  15.51   3.486]\n",
      " [16.77  15.62   3.438]\n",
      " [17.32  15.91   3.403]\n",
      " [20.71  17.23   3.814]\n",
      " [18.94  16.49   3.639]\n",
      " [17.12  15.55   3.566]\n",
      " [16.53  15.34   3.467]\n",
      " [18.72  16.19   3.857]\n",
      " [20.2   16.89   3.864]\n",
      " [19.57  16.74   3.772]\n",
      " [19.51  16.71   3.801]\n",
      " [18.27  16.09   3.651]\n",
      " [18.88  16.26   3.764]\n",
      " [18.98  16.66   3.67 ]\n",
      " [21.18  17.21   4.033]\n",
      " [20.88  17.05   4.032]\n",
      " [20.1   16.99   3.785]\n",
      " [18.76  16.2    3.796]\n",
      " [18.81  16.29   3.693]\n",
      " [18.59  16.05   3.86 ]\n",
      " [18.36  16.52   3.485]\n",
      " [16.87  15.65   3.463]\n",
      " [19.31  16.59   3.81 ]\n",
      " [18.98  16.57   3.552]\n",
      " [18.17  16.26   3.512]\n",
      " [18.72  16.34   3.684]\n",
      " [16.41  15.25   3.525]\n",
      " [17.99  15.86   3.694]\n",
      " [19.46  16.5    3.892]\n",
      " [19.18  16.63   3.681]\n",
      " [18.95  16.42   3.755]\n",
      " [18.83  16.29   3.786]\n",
      " [18.85  16.17   3.806]\n",
      " [17.63  15.86   3.573]\n",
      " [19.94  16.92   3.763]\n",
      " [18.55  16.22   3.674]\n",
      " [18.45  16.12   3.769]\n",
      " [19.38  16.72   3.791]\n",
      " [19.13  16.31   3.902]\n",
      " [19.14  16.61   3.737]\n",
      " [20.97  17.25   3.991]\n",
      " [19.06  16.45   3.719]\n",
      " [18.96  16.2    3.897]\n",
      " [19.15  16.45   3.815]\n",
      " [18.89  16.23   3.769]\n",
      " [20.03  16.9    3.857]\n",
      " [20.24  16.91   3.962]\n",
      " [18.14  16.12   3.563]\n",
      " [16.17  15.38   3.387]\n",
      " [18.43  15.97   3.771]\n",
      " [15.99  14.89   3.582]\n",
      " [18.75  16.18   3.869]\n",
      " [18.65  16.41   3.594]\n",
      " [17.98  15.85   3.687]\n",
      " [20.16  17.03   3.773]\n",
      " [17.55  15.66   3.69 ]\n",
      " [18.3   15.89   3.755]\n",
      " [18.94  16.32   3.825]\n",
      " [15.38  14.9    3.268]\n",
      " [16.16  15.33   3.395]\n",
      " [15.56  14.89   3.408]\n",
      " [15.38  14.66   3.465]\n",
      " [17.36  15.76   3.574]\n",
      " [15.57  15.15   3.231]\n",
      " [15.6   15.11   3.286]\n",
      " [16.23  15.18   3.472]\n",
      " [13.07  13.92   2.994]\n",
      " [13.32  13.94   3.073]\n",
      " [13.34  13.95   3.074]\n",
      " [12.22  13.32   2.967]\n",
      " [11.82  13.4    2.777]\n",
      " [11.21  13.13   2.687]\n",
      " [11.43  13.13   2.719]\n",
      " [12.49  13.46   2.967]\n",
      " [12.7   13.71   2.911]\n",
      " [10.79  12.93   2.648]\n",
      " [11.83  13.23   2.84 ]\n",
      " [12.01  13.52   2.776]\n",
      " [12.26  13.6    2.833]\n",
      " [11.18  13.04   2.693]\n",
      " [11.36  13.05   2.755]\n",
      " [11.19  13.05   2.675]\n",
      " [11.34  12.87   2.849]\n",
      " [12.13  13.73   2.745]\n",
      " [11.75  13.52   2.678]\n",
      " [11.49  13.22   2.695]\n",
      " [12.54  13.67   2.879]\n",
      " [12.02  13.33   2.81 ]\n",
      " [12.05  13.41   2.847]\n",
      " [12.55  13.57   2.968]\n",
      " [11.14  12.79   2.794]\n",
      " [12.1   13.15   2.941]\n",
      " [12.44  13.59   2.897]\n",
      " [12.15  13.45   2.837]\n",
      " [11.35  13.12   2.668]\n",
      " [11.24  13.     2.715]\n",
      " [11.02  13.     2.701]\n",
      " [11.55  13.1    2.845]\n",
      " [11.27  12.97   2.763]\n",
      " [11.4   13.08   2.763]\n",
      " [10.83  12.96   2.641]\n",
      " [10.8   12.57   2.821]\n",
      " [11.26  13.01   2.71 ]\n",
      " [10.74  12.73   2.642]\n",
      " [11.48  13.05   2.758]\n",
      " [12.21  13.47   2.893]\n",
      " [11.41  12.95   2.775]\n",
      " [12.46  13.41   3.017]\n",
      " [12.19  13.36   2.909]\n",
      " [11.65  13.07   2.85 ]\n",
      " [12.89  13.77   3.026]\n",
      " [11.56  13.31   2.683]\n",
      " [11.81  13.45   2.716]\n",
      " [10.91  12.8    2.675]\n",
      " [11.23  12.82   2.821]\n",
      " [10.59  12.41   2.787]\n",
      " [10.93  12.8    2.717]\n",
      " [11.27  12.86   2.804]\n",
      " [11.87  13.02   2.953]\n",
      " [10.82  12.83   2.63 ]\n",
      " [12.11  13.27   2.975]\n",
      " [12.8   13.47   3.126]\n",
      " [12.79  13.53   3.054]\n",
      " [13.37  13.78   3.128]\n",
      " [12.62  13.67   2.911]\n",
      " [12.76  13.38   3.155]\n",
      " [12.38  13.44   2.989]\n",
      " [12.67  13.32   3.135]\n",
      " [11.18  12.72   2.81 ]\n",
      " [12.7   13.41   3.091]\n",
      " [12.37  13.47   2.96 ]\n",
      " [12.19  13.2    2.981]\n",
      " [11.23  12.88   2.795]\n",
      " [13.2   13.66   3.232]\n",
      " [11.84  13.21   2.836]\n",
      " [12.3   13.34   2.974]]\n"
     ]
    }
   ],
   "source": [
    "###  ANOVA  ###\n",
    "# Create features and target\n",
    "X = df_features\n",
    "y = y_pred\n",
    "# Create an SelectKBest object to select features with three best ANOVA F-Values\n",
    "fvalue_selector = SelectKBest(f_classif, k=3)\n",
    "# Apply the SelectKBest object to the features and target\n",
    "selA = fvalue_selector.fit_transform(X, y)\n",
    "# Show results\n",
    "print('Original number of features:', X.shape[1])\n",
    "print('Reduced number of features:', selA.shape[1])\n",
    "print('Features using ANOVA:',selA)"
   ]
  },
  {
   "cell_type": "code",
   "execution_count": 20,
   "metadata": {},
   "outputs": [
    {
     "name": "stdout",
     "output_type": "stream",
     "text": [
      "[[15  1 54]\n",
      " [ 0 55 15]\n",
      " [69  0  1]]\n",
      "cluster_accuracy: 0.8476190476190476\n"
     ]
    }
   ],
   "source": [
    "df_ANOVA = df[['height','length','min']]\n",
    "# normalize the data attributes\n",
    "Anorm = StandardScaler().fit_transform(df_ANOVA)\n",
    "Anorm \n",
    "kmeansA = KMeans(n_clusters=3,init='k-means++',random_state =0,max_iter=500)\n",
    "kmeansA.fit(Anorm)\n",
    "centroidsA = kmeansA.cluster_centers_\n",
    "labelsA = kmeansA.labels_\n",
    "y_predA = kmeansA.fit_predict(Anorm)\n",
    "\n",
    "#compute confusion matrix\n",
    "from sklearn.metrics import confusion_matrix\n",
    "confusion_matrixA = confusion_matrix(y_true, y_predA)\n",
    "print(confusion_matrixA)\n",
    "\n",
    "# Return cluster accuracy\n",
    "row_ind, col_ind = linear_sum_assignment(-confusion_matrixA)\n",
    "print('cluster_accuracy:',confusion_matrixA[row_ind, col_ind].sum() / np.sum(confusion_matrixA))"
   ]
  },
  {
   "cell_type": "code",
   "execution_count": 21,
   "metadata": {},
   "outputs": [
    {
     "name": "stdout",
     "output_type": "stream",
     "text": [
      "Original number of features: 7\n",
      "Reduced number of features: [[15 14  2]\n",
      " [14 14  1]\n",
      " [14 14  2]\n",
      " [13 13  2]\n",
      " [16 14  1]\n",
      " [14 14  2]\n",
      " [14 14  3]\n",
      " [14 14  2]\n",
      " [16 15  2]\n",
      " [16 15  1]\n",
      " [15 14  4]\n",
      " [14 14  1]\n",
      " [13 14  3]\n",
      " [13 14  3]\n",
      " [13 14  2]\n",
      " [14 14  4]\n",
      " [13 13  5]\n",
      " [15 14  1]\n",
      " [14 14  1]\n",
      " [12 13  4]\n",
      " [14 14  3]\n",
      " [14 14  2]\n",
      " [15 14  0]\n",
      " [12 13  1]\n",
      " [15 14  1]\n",
      " [16 15  0]\n",
      " [13 13  3]\n",
      " [12 13  2]\n",
      " [14 14  2]\n",
      " [13 14  3]\n",
      " [13 13  0]\n",
      " [15 14  3]\n",
      " [14 14  3]\n",
      " [13 14  2]\n",
      " [15 14  2]\n",
      " [16 15  2]\n",
      " [16 15  2]\n",
      " [17 15  2]\n",
      " [14 14  3]\n",
      " [14 14  6]\n",
      " [13 13  2]\n",
      " [13 13  2]\n",
      " [13 13  2]\n",
      " [15 14  4]\n",
      " [15 14  3]\n",
      " [13 14  1]\n",
      " [15 14  1]\n",
      " [14 14  2]\n",
      " [14 14  2]\n",
      " [14 14  2]\n",
      " [14 14  3]\n",
      " [15 14  5]\n",
      " [14 14  4]\n",
      " [14 14  3]\n",
      " [14 14  1]\n",
      " [15 14  1]\n",
      " [14 14  2]\n",
      " [14 14  1]\n",
      " [15 14  1]\n",
      " [12 13  1]\n",
      " [11 12  2]\n",
      " [11 12  2]\n",
      " [12 13  3]\n",
      " [13 13  4]\n",
      " [12 13  1]\n",
      " [12 13  2]\n",
      " [14 14  1]\n",
      " [14 14  2]\n",
      " [14 14  1]\n",
      " [12 13  3]\n",
      " [17 15  4]\n",
      " [16 15  4]\n",
      " [17 15  4]\n",
      " [19 16  2]\n",
      " [16 15  4]\n",
      " [16 15  4]\n",
      " [17 15  3]\n",
      " [20 17  4]\n",
      " [18 16  5]\n",
      " [17 15  2]\n",
      " [16 15  5]\n",
      " [18 16  5]\n",
      " [20 16  5]\n",
      " [19 16  1]\n",
      " [19 16  2]\n",
      " [18 16  2]\n",
      " [18 16  1]\n",
      " [18 16  3]\n",
      " [21 17  5]\n",
      " [20 17  5]\n",
      " [20 16  1]\n",
      " [18 16  3]\n",
      " [18 16  3]\n",
      " [18 16  6]\n",
      " [18 16  4]\n",
      " [16 15  3]\n",
      " [19 16  3]\n",
      " [18 16  2]\n",
      " [18 16  2]\n",
      " [18 16  2]\n",
      " [16 15  4]\n",
      " [17 15  2]\n",
      " [19 16  4]\n",
      " [19 16  3]\n",
      " [18 16  3]\n",
      " [18 16  2]\n",
      " [18 16  2]\n",
      " [17 15  3]\n",
      " [19 16  3]\n",
      " [18 16  1]\n",
      " [18 16  2]\n",
      " [19 16  3]\n",
      " [19 16  2]\n",
      " [19 16  6]\n",
      " [20 17  4]\n",
      " [19 16  2]\n",
      " [18 16  4]\n",
      " [19 16  3]\n",
      " [18 16  3]\n",
      " [20 16  3]\n",
      " [20 16  5]\n",
      " [18 16  3]\n",
      " [16 15  4]\n",
      " [18 15  2]\n",
      " [15 14  3]\n",
      " [18 16  4]\n",
      " [18 16  4]\n",
      " [17 15  2]\n",
      " [20 17  1]\n",
      " [17 15  5]\n",
      " [18 15  2]\n",
      " [18 16  2]\n",
      " [15 14  4]\n",
      " [16 15  4]\n",
      " [15 14  4]\n",
      " [15 14  3]\n",
      " [17 15  3]\n",
      " [15 15  2]\n",
      " [15 15  2]\n",
      " [16 15  3]\n",
      " [13 13  5]\n",
      " [13 13  7]\n",
      " [13 13  5]\n",
      " [12 13  5]\n",
      " [11 13  4]\n",
      " [11 13  6]\n",
      " [11 13  2]\n",
      " [12 13  4]\n",
      " [12 13  3]\n",
      " [10 12  5]\n",
      " [11 13  5]\n",
      " [12 13  6]\n",
      " [12 13  4]\n",
      " [11 13  3]\n",
      " [11 13  4]\n",
      " [11 13  5]\n",
      " [11 12  3]\n",
      " [12 13  4]\n",
      " [11 13  4]\n",
      " [11 13  5]\n",
      " [12 13  3]\n",
      " [12 13  4]\n",
      " [12 13  4]\n",
      " [12 13  4]\n",
      " [11 12  6]\n",
      " [12 13  2]\n",
      " [12 13  4]\n",
      " [12 13  3]\n",
      " [11 13  4]\n",
      " [11 13  3]\n",
      " [11 13  6]\n",
      " [11 13  6]\n",
      " [11 12  4]\n",
      " [11 13  5]\n",
      " [10 12  5]\n",
      " [10 12  4]\n",
      " [11 13  5]\n",
      " [10 12  4]\n",
      " [11 13  5]\n",
      " [12 13  1]\n",
      " [11 12  4]\n",
      " [12 13  4]\n",
      " [12 13  4]\n",
      " [11 13  5]\n",
      " [12 13  6]\n",
      " [11 13  4]\n",
      " [11 13  4]\n",
      " [10 12  4]\n",
      " [11 12  7]\n",
      " [10 12  4]\n",
      " [10 12  5]\n",
      " [11 12  3]\n",
      " [11 13  3]\n",
      " [10 12  4]\n",
      " [12 13  4]\n",
      " [12 13  4]\n",
      " [12 13  5]\n",
      " [13 13  4]\n",
      " [12 13  3]\n",
      " [12 13  2]\n",
      " [12 13  5]\n",
      " [12 13  2]\n",
      " [11 12  4]\n",
      " [12 13  8]\n",
      " [12 13  3]\n",
      " [12 13  3]\n",
      " [11 12  4]\n",
      " [13 13  8]\n",
      " [11 13  3]\n",
      " [12 13  5]]\n"
     ]
    }
   ],
   "source": [
    "###  CHI-SQUARED  ###\n",
    "from sklearn.feature_selection import chi2\n",
    "# Convert to categorical data by converting data to integers\n",
    "X = X.astype(int)\n",
    "# Select three features with highest chi-squared statistics\n",
    "sel = SelectKBest(chi2, k=3)\n",
    "selC = sel.fit_transform(X, y)\n",
    "# Show results\n",
    "print('Original number of features:', X.shape[1])\n",
    "print('Reduced number of features:', selC)"
   ]
  },
  {
   "cell_type": "code",
   "execution_count": 22,
   "metadata": {},
   "outputs": [
    {
     "name": "stdout",
     "output_type": "stream",
     "text": [
      "[[64  5  1]\n",
      " [ 5  0 65]\n",
      " [ 8 62  0]]\n",
      "cluster_accuracy: 0.9095238095238095\n"
     ]
    }
   ],
   "source": [
    "df_CHI = df[['height','length','max']]\n",
    "# normalize the data attributes\n",
    "CHInorm = StandardScaler().fit_transform(df_CHI)\n",
    "CHInorm \n",
    "kmeansC = KMeans(n_clusters=3,init='k-means++',random_state =0, max_iter=500)\n",
    "kmeansC.fit(CHInorm)\n",
    "centroidsC = kmeansC.cluster_centers_\n",
    "labelsC = kmeansC.labels_\n",
    "y_predC = kmeansC.fit_predict(CHInorm)\n",
    "\n",
    "#compute confusion matrix\n",
    "from sklearn.metrics import confusion_matrix\n",
    "confusion_matrixC = confusion_matrix(y_true, y_predC)\n",
    "print(confusion_matrixC)\n",
    "\n",
    "# Return cluster accuracy\n",
    "row_ind, col_ind = linear_sum_assignment(-confusion_matrixC)\n",
    "print('cluster_accuracy:',confusion_matrixC[row_ind, col_ind].sum() / np.sum(confusion_matrixC))"
   ]
  },
  {
   "cell_type": "markdown",
   "metadata": {},
   "source": [
    "Based on purity score, feature set using Chi-square has a greater purity score than feature set applied by ANOVA (0.9095 > 0.8476). \n",
    "\n",
    "In addition, if we consider other factors such as while Chi-square test is better used for categorical data, ANOVA test is better used for continuous data or we have to transform our data to integer to push Python understand our data as categorical data in order to use Chi-square test, which may affect the outcome, even though ANOVA has lower purity score, ANOVA is chosen. \n",
    "\n",
    "However, if we only base on purity results, Chi-square is reccommened and the chosen feature set includes Height, Length, Max."
   ]
  },
  {
   "cell_type": "markdown",
   "metadata": {
    "colab_type": "text",
    "id": "Key1p4RKLEW9"
   },
   "source": [
    "# Part-2 (Dimensionality Reduction using PCA/SVD) *(15 marks)*\n",
    "\n",
    "1. For the dataset (clustering.csv), perform PCA.\n",
    "    - plot the captured variance with respect to increasing latent dimensionality. __(2.5 marks)__\n",
    "  \n",
    "  What is the minimum dimension that captures:\n",
    "    - at least 89% variance? __(1.5 marks)__\n",
    "    - at least 99% variance? __(1 marks)__"
   ]
  },
  {
   "cell_type": "code",
   "execution_count": 23,
   "metadata": {
    "colab": {},
    "colab_type": "code",
    "id": "EkJU33yYKpen",
    "scrolled": true
   },
   "outputs": [
    {
     "name": "stdout",
     "output_type": "stream",
     "text": [
      "Cumulative Variance [ 71.8743  88.9825  98.6683  99.6449  99.9122  99.9884 100.    ]\n"
     ]
    },
    {
     "data": {
      "text/plain": [
       "Text(0, 0.5, 'Variance captured')"
      ]
     },
     "execution_count": 23,
     "metadata": {},
     "output_type": "execute_result"
    },
    {
     "data": {
      "image/png": "[encoded data removed]",
      "text/plain": [
       "<Figure size 432x288 with 1 Axes>"
      ]
     },
     "metadata": {
      "needs_background": "light"
     },
     "output_type": "display_data"
    }
   ],
   "source": [
    "#normalize our data\n",
    "Xnorm = scale(df_features)\n",
    "#perform PCA using sklearn PCA implementation\n",
    "from sklearn.decomposition import PCA\n",
    "pca = PCA(n_components=7)\n",
    "pca.fit(Xnorm)\n",
    "#The amount of variance that each PC explains\n",
    "var= pca.explained_variance_ratio_\n",
    "#Cumulative Variance explains\n",
    "var1=np.cumsum(np.round(pca.explained_variance_ratio_, decimals=6)*100)\n",
    "print('Cumulative Variance', var1)\n",
    "plt.plot(var1,marker='o')\n",
    "plt.xlabel(\"Principal components\")\n",
    "plt.ylabel(\"Variance captured\")"
   ]
  },
  {
   "cell_type": "code",
   "execution_count": 24,
   "metadata": {
    "scrolled": false
   },
   "outputs": [
    {
     "name": "stdout",
     "output_type": "stream",
     "text": [
      "PCA 89% shape: (210, 3)\n"
     ]
    }
   ],
   "source": [
    "#What is the minimum dimension that captures at least 89% variance\n",
    "pca89 =PCA(n_components = 0.89)\n",
    "pca89.fit(Xnorm)\n",
    "score_pca89 = pca89.transform(Xnorm)\n",
    "print('PCA 89% shape:',score_pca89.shape)"
   ]
  },
  {
   "cell_type": "code",
   "execution_count": 25,
   "metadata": {
    "scrolled": false
   },
   "outputs": [
    {
     "name": "stdout",
     "output_type": "stream",
     "text": [
      "PCA 99% shape: (210, 4)\n"
     ]
    }
   ],
   "source": [
    "#What is the minimum dimension that captures at least 99% variance\n",
    "pca99 =PCA(n_components = 0.99)\n",
    "pca99.fit(Xnorm)\n",
    "score_pca99 = pca99.transform(Xnorm)\n",
    "print('PCA 99% shape:',score_pca99.shape)"
   ]
  },
  {
   "cell_type": "code",
   "execution_count": 26,
   "metadata": {},
   "outputs": [
    {
     "name": "stdout",
     "output_type": "stream",
     "text": [
      "The minimum dimension that captures at least 89% variance is 3\n",
      "The minimum dimension that captures at least 99% variance is 4\n"
     ]
    }
   ],
   "source": [
    "print ('The minimum dimension that captures at least 89% variance is 3')\n",
    "print ('The minimum dimension that captures at least 99% variance is 4')"
   ]
  },
  {
   "cell_type": "markdown",
   "metadata": {
    "colab_type": "text",
    "id": "x9JPYP0vLKzp"
   },
   "source": [
    "2. Determine the purity of clusters formed by the number of principal components which captured 89% and 99% variances respectively. Plot a line graph of the purity scores against the captured variances. Discuss your findings. __(7 marks)__"
   ]
  },
  {
   "cell_type": "code",
   "execution_count": 27,
   "metadata": {},
   "outputs": [
    {
     "data": {
      "image/png": "[encoded data removed]",
      "text/plain": [
       "<Figure size 432x288 with 1 Axes>"
      ]
     },
     "metadata": {
      "needs_background": "light"
     },
     "output_type": "display_data"
    },
    {
     "name": "stdout",
     "output_type": "stream",
     "text": [
      "confusion_matrix [[60  2  8]\n",
      " [ 5 65  0]\n",
      " [ 4  0 66]]\n",
      "purity score: 90.95238095238095 %\n"
     ]
    }
   ],
   "source": [
    "#PCA89\n",
    "# k means determine k\n",
    "TotalSqrtDist89 = []\n",
    "K_range = range(1,10)\n",
    "for k in K_range:\n",
    "    kmeanpca89 = KMeans(n_clusters=k,random_state =0,max_iter=500).fit(score_pca89)\n",
    "    TotalSqrtDist89.append(kmeanpca89.inertia_)\n",
    "\n",
    "# Plot the elbow\n",
    "plt.plot(K_range, TotalSqrtDist89, 'bx-', marker ='o')\n",
    "plt.xlabel('Number of clusters')\n",
    "plt.ylabel('Sum of squared distance')\n",
    "plt.title('The Elbow Method showing the optimal k')\n",
    "plt.axvline(3, 0, 1)\n",
    "plt.show()\n",
    "\n",
    "#Perform kmeans with PCA89\n",
    "kmeans89 = KMeans(n_clusters=3, init='k-means++',random_state =0,max_iter=500).fit(score_pca89)\n",
    "centroids89 = kmeans89.cluster_centers_\n",
    "labels89 = kmeans89.labels_\n",
    "y_pred89 = kmeans89.fit_predict(score_pca89)\n",
    "\n",
    "#compute confausion matrix\n",
    "from sklearn.metrics import confusion_matrix\n",
    "confusion_matrix89 = confusion_matrix(y_true, y_pred89)\n",
    "print('confusion_matrix',confusion_matrix89)\n",
    "\n",
    "# Return cluster accuracy\n",
    "row_ind, col_ind = linear_sum_assignment(-confusion_matrix89)\n",
    "purityscore89 = confusion_matrix89[row_ind, col_ind].sum() / np.sum(confusion_matrix89)\n",
    "print('purity score:',purityscore89*100,\"%\")"
   ]
  },
  {
   "cell_type": "code",
   "execution_count": 28,
   "metadata": {},
   "outputs": [
    {
     "data": {
      "image/png": "[encoded data removed]",
      "text/plain": [
       "<Figure size 720x360 with 1 Axes>"
      ]
     },
     "metadata": {
      "needs_background": "light"
     },
     "output_type": "display_data"
    },
    {
     "name": "stdout",
     "output_type": "stream",
     "text": [
      "[[62  2  6]\n",
      " [ 5 65  0]\n",
      " [ 4  0 66]]\n",
      "purity score: 91.9047619047619 %\n"
     ]
    }
   ],
   "source": [
    "#PCA99\n",
    "# k means determine k\n",
    "TotalSqrtDist99 = []\n",
    "K_range = range(1,10)\n",
    "for k in K_range:\n",
    "    kmeanpca99 = KMeans(n_clusters=k,random_state = 0,max_iter=500).fit(score_pca99)\n",
    "    TotalSqrtDist99.append(kmeanpca99.inertia_)\n",
    "\n",
    "# Plot the elbow\n",
    "plt.figure(figsize =(10,5))\n",
    "plt.plot(K_range, TotalSqrtDist99, 'bx-', marker ='o')\n",
    "plt.xlabel('Number of clusters')\n",
    "plt.ylabel('Sum of squared distance')\n",
    "plt.title('The Elbow Method showing the optimal k')\n",
    "plt.show()\n",
    "\n",
    "#Perform kmeans with PCA89\n",
    "kmeans99 = KMeans(n_clusters=3,init='k-means++',random_state =0,max_iter=500)\n",
    "kmeans99.fit(score_pca99)\n",
    "centroids99 = kmeans99.cluster_centers_\n",
    "labels99 = kmeans99.labels_\n",
    "y_pred99 = kmeans99.fit_predict(score_pca99)\n",
    "\n",
    "#compute confausion matrix\n",
    "from sklearn.metrics import confusion_matrix\n",
    "confusion_matrix99 = confusion_matrix(y_true, y_pred99)\n",
    "print(confusion_matrix99)\n",
    "\n",
    "# Return cluster accuracy\n",
    "row_ind, col_ind = linear_sum_assignment(-confusion_matrix99)\n",
    "purityscore99 = confusion_matrix99[row_ind, col_ind].sum() / np.sum(confusion_matrix99)\n",
    "print('purity score:',purityscore99*100,\"%\")"
   ]
  },
  {
   "cell_type": "code",
   "execution_count": 29,
   "metadata": {},
   "outputs": [
    {
     "data": {
      "text/plain": [
       "Text(0.5, 1.0, 'Purity scores againt captured variances')"
      ]
     },
     "execution_count": 29,
     "metadata": {},
     "output_type": "execute_result"
    },
    {
     "data": {
      "image/png": "[encoded data removed]",
      "text/plain": [
       "<Figure size 720x360 with 1 Axes>"
      ]
     },
     "metadata": {
      "needs_background": "light"
     },
     "output_type": "display_data"
    }
   ],
   "source": [
    "plt.figure(figsize =(10,5))\n",
    "plt.plot([90.95238095238095,91.9047619047619],[98.6683,99.6449],'bx-',marker='o')\n",
    "plt.xlabel(\"Purity score\")\n",
    "plt.ylabel(\"Variance captured\")\n",
    "plt.title('Purity scores againt captured variances')"
   ]
  },
  {
   "cell_type": "code",
   "execution_count": 30,
   "metadata": {},
   "outputs": [
    {
     "name": "stdout",
     "output_type": "stream",
     "text": [
      "The figure show an uptrend line which indicates that the greater the variance captures,the greater the purity score is. In other words, this experiment shows the improvement in accuracy of clustering results by apply PCA before clustering.\n"
     ]
    }
   ],
   "source": [
    "print('The figure show an uptrend line which indicates that the greater the variance captures,the greater the purity score is. In other words, this experiment shows the improvement in accuracy of clustering results by apply PCA before clustering.')"
   ]
  },
  {
   "cell_type": "code",
   "execution_count": 31,
   "metadata": {
    "scrolled": true
   },
   "outputs": [
    {
     "name": "stdout",
     "output_type": "stream",
     "text": [
      "PCA 69% shape: (210, 1)\n",
      "PCA 79% shape: (210, 2)\n"
     ]
    }
   ],
   "source": [
    "#Further analysis\n",
    "#The minimum dimension that captures at least 69% variance\n",
    "pca69 =PCA(n_components = 0.69)\n",
    "pca69.fit(Xnorm)\n",
    "score_pca69 = pca69.transform(Xnorm)\n",
    "print('PCA 69% shape:',score_pca69.shape)\n",
    "\n",
    "#The minimum dimension that captures at least 69% variance\n",
    "pca79 =PCA(n_components = 0.79)\n",
    "pca79.fit(Xnorm)\n",
    "score_pca79 = pca79.transform(Xnorm)\n",
    "print('PCA 79% shape:',score_pca79.shape)\n",
    "\n",
    "#Using the same technique to calculate Kmeans clustering and purity score, \n",
    "#Purity score of variance at 69% is 85.71428571428571 % and purity of varinace at 79% is 90.95238095238095%."
   ]
  },
  {
   "cell_type": "code",
   "execution_count": 32,
   "metadata": {},
   "outputs": [
    {
     "name": "stdout",
     "output_type": "stream",
     "text": [
      "From the further analysis, purity score of variance captured at 69% is approximately 85.71%. This result is a supportive evidence to prove that applying PCA before clustering could improve the purity scores.\n"
     ]
    }
   ],
   "source": [
    "print('From the further analysis, purity score of variance captured at 69% is approximately 85.71%. This result is a supportive evidence to prove that applying PCA before clustering could improve the purity scores.')"
   ]
  },
  {
   "cell_type": "markdown",
   "metadata": {
    "colab_type": "text",
    "id": "8RmhzV_MK-ia"
   },
   "source": [
    "3. Let's assume you have two datasets one is linear and another is curved structural data.\n",
    "    - Can we apply PCA on these datasets? Justify your answer. __(3 marks)__ "
   ]
  },
  {
   "cell_type": "markdown",
   "metadata": {
    "colab": {},
    "colab_type": "code",
    "id": "_9NpVDBwKqD-"
   },
   "source": [
    "Curved structured data is considered as nonlinear dataset. There are assumptions for using PCA and one of them is there should be linear relationship between variables. Therefore, as long as there is a linear relationship between all variables, both linear and curved structural data can apply PCA. If there aren't any linear relationships, we can transform data to make it more linear. \n",
    "\n",
    "However, if the dataset is highly nonlinear using PCA will distort the distances between points and most likely the downstream algorithm will yield misleading results. "
   ]
  }
 ],
 "metadata": {
  "colab": {
   "collapsed_sections": [],
   "name": "A2.ipynb",
   "provenance": []
  },
  "kernelspec": {
   "display_name": "Python 3",
   "language": "python",
   "name": "python3"
  },
  "language_info": {
   "codemirror_mode": {
    "name": "ipython",
    "version": 3
   },
   "file_extension": ".py",
   "mimetype": "text/x-python",
   "name": "python",
   "nbconvert_exporter": "python",
   "pygments_lexer": "ipython3",
   "version": "3.8.3"
  }
 },
 "nbformat": 4,
 "nbformat_minor": 1
}
